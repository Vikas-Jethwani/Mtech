{
 "cells": [
  {
   "cell_type": "code",
   "execution_count": 5,
   "metadata": {},
   "outputs": [],
   "source": [
    "import math # for log\n",
    "import random # for vignere key generation"
   ]
  },
  {
   "cell_type": "code",
   "execution_count": 6,
   "metadata": {},
   "outputs": [],
   "source": [
    "DISTINCT = 37\n",
    "S_ID = 1\n",
    "R_ID = 2\n",
    "CHECK = ord('-')-ord('a') # for '-'\n",
    "FIX = 26 # for '-'\n",
    "FIX_NUM = 27 # for number '0' and so on..."
   ]
  },
  {
   "cell_type": "code",
   "execution_count": 7,
   "metadata": {},
   "outputs": [],
   "source": [
    "CA_e, CA_n = map(int, open('public_CA.txt', 'r').read().split())"
   ]
  },
  {
   "cell_type": "code",
   "execution_count": 8,
   "metadata": {},
   "outputs": [
    {
     "data": {
      "text/plain": [
       "(246345344925610181931857553251542711701424910022313570595677899783215214238902994390590396085980415507144140973070287063830301490629433954278206767301747392071482511942984864014232374847201602916449323384316065975370539707471296419095130060603300030677733964983745736329718419233730942853736233836808696138283,\n",
       " 300358006975011495139377803157720861039011374118356033513884791180036437575075580917566356096898192054991830212564933735009645927464784728794775803648548625543909631078259511747297330031345132835079465931131268976922480095601661069191595064747281103228433038159412442515438435289649092095381097944090770591873)"
      ]
     },
     "execution_count": 8,
     "metadata": {},
     "output_type": "execute_result"
    }
   ],
   "source": [
    "CA_e, CA_n"
   ]
  },
  {
   "cell_type": "code",
   "execution_count": 9,
   "metadata": {},
   "outputs": [
    {
     "name": "stdout",
     "output_type": "stream",
     "text": [
      "1 gnuiergm68vr1nis-54acbqg304-zzz16h9kp3awfck4io9xej0uronrv4k4yx556iw04076ehobhmkopluzz5t5xw2b440e95j3d6-wmqoy13k28-n11ovg-xmbw2zyv0pzdhg7qfpa6i3o4qsf1vtdlnpen-opxgatnz0y55kg2gr3rlithozn70rp1ydbpslxtbx6sog3l3p--zrikwoxzw3cm04dex021qokvwukyumtpdjekbmcna04x2sty9h63ub4gxp654gzmbbulfp12zsbib5i2n7g42mg-won-3k8xps12iwfnabkwhyyid1ahpfr9bsdnsch0wd0ehd9seslnydy0961hr7kyjfumt-ev5h4ttskm77snkmusn0ptegz3-mxmc8n9uh83qk4hbz2ieikl-d4aw-pu7s2-a3sfzszz77fdvt8ltkpa6c4almqp-kuphz1vg74yo3cwsfg3aspgwy1-koyue26w52vhbs6128qrgyy1dhhnw59mca-me50wcz2ziw15s982vwj6hxlstm112-84oknfojcpjqg9rp1zpvjiimh59tb15pjnhkd3f0k06qnrpwy4jyyphlh4zt5jmc5fqyxaqqx2co5h1263hswqweblyx3rkr0plcpo4w8es-q81w-vrd87xie1ik6g7ilgvdbj-iuugz1djjq2dk9-etajef02-l1nfoh5qe8-3-atrqt5jqqmoa7c59950amfrgdosurvlxh7o9ghnau5vq2p6ye2boqxmz589ro59c-\r\n",
      "2 evqb8759bw2ela9rsff65bi52w9j1tu2v0aje0xftzlxop3bvj41826imvmlkagoy7gqfpu-b0crrjm0o9obf0qhlzyt0eehp7c63485lomhnijmnn2mg9evdgmh39p937ow-xl33nsbe5e7zdlig--kpfhn8z9a846wrqj0e69xyx4nsi8ycarkf9py5y79jzvi7a-6q8rp8np2fr9zk4gvo5lixy5ch000jwjo5on3j4d1bxg72h339j6-3nadyf3hevv3jv4t4vpkvd-93nyv5nw7sp2jrbgc6-mskw2gquexbioswbeyvie5zetpzr53yma3lgzh9bhegre9g7eh-4b8u3w1rotw6sw19g-6fb1ixp2dw0fujozg2qunbjrvgqjm2rgdb-ymb5-pea4r2rsg5ko733w2fpt5z5jru8bq0e8a8wyvt60ijseb0kza4o177gunn6z2sfyr915p8zhvz6dktmf996gxt-mujmnqdo95a16m11j2a6m37tgjpg5qp6kyr2pfla8wadk-8aubageli44gfqqrpml4o0wcrzqdnxvdszafbx9w2u8v7mg2j8508upi6sgzzy2opapw6-4t1wm9bcyfc61gnn4ibm8139zktiyb7xv4es8-swh7820h144jyaxogkchaveg-z7xrdnehepdap4-mrb978usbm5ulbujl5i35myrsuw9f5pf04eeymj0vu6m1vjcy21cpc4i4cel3nyj58n8-d7hkj6f-u673n6yj51yavba1li3zgjomkog\r\n"
     ]
    }
   ],
   "source": [
    "cat public_dir.txt"
   ]
  },
  {
   "cell_type": "code",
   "execution_count": 10,
   "metadata": {},
   "outputs": [
    {
     "data": {
      "text/plain": [
       "'gnuiergm68vr1nis-54acbqg304-zzz16h9kp3awfck4io9xej0uronrv4k4yx556iw04076ehobhmkopluzz5t5xw2b440e95j3d6-wmqoy13k28-n11ovg-xmbw2zyv0pzdhg7qfpa6i3o4qsf1vtdlnpen-opxgatnz0y55kg2gr3rlithozn70rp1ydbpslxtfmr64q285ipbii17ozgvydsqga9b7390p88rolzs863tti5jpy6vcrsqjef25yk6r4mainjb-3g4fhy5qg4mfg5mf9ezpedil20urncl1ksspo6yg-zxhkrtfinrdtgn8vsme7klhn6ydhsjxg5usinrc1bdtonlgzg3h8w7h1fk-05lvf3qw265bn5w99am2drngc2schrry3lilhc8il4mszvfu9k-6b5srk1agzyp5t5pmeveevskbv3hri1brf5zrouyvn7l35crczbevk07t3jdprv9cfs90fepb2w6ed1g8jbxnwy0imnfseyy8n52px3m604s1r96nzn4ml0orr8y12cr9dyhrjs5pdkybj6m4igsrr0ms-97r0grf6wbn74y6ulfagf1ocyam4cclzw25ue6pm02v19mc6gstm8ajpowc0om3u5nfmofy-gzy7d9aidubaw3xnt76cnt3q81elz5e0jkxs6b9mviu-gcpsd8va-go-tqucqmft0mfr9nxnthefxrkpl9v7l2rqccfwywx0hi2-1vdstldtr0uensy18bwpzki5mo0tzulr8zf00tvblft63esgb3xdkd79qb8nva8ctkju5t4t5paudurbvcxl4b3og3wryztawzi-twvntxp2lxur2od7xmgoureaeetrxybsl0sopd2kuvagx6xh7hhkf0dnohmhgobrlp--j9ncciisdcblwzer0tqa0gtkincppl7smwiiw7wcocv3m7q5w3i883jg-y76rwnu6twv3a'"
      ]
     },
     "execution_count": 10,
     "metadata": {},
     "output_type": "execute_result"
    }
   ],
   "source": [
    "S_keys = open('private_' + str(S_ID) + '.txt', 'r').read() # Encrypted by CA\n",
    "S_keys"
   ]
  },
  {
   "cell_type": "code",
   "execution_count": 11,
   "metadata": {},
   "outputs": [],
   "source": [
    "def remove_extra_a(with_a):\n",
    "    return with_a.rstrip('a')"
   ]
  },
  {
   "cell_type": "code",
   "execution_count": 14,
   "metadata": {},
   "outputs": [],
   "source": [
    "def find_block_size(num_diff_chars, n):\n",
    "    block_size = int(math.log(n, num_diff_chars))\n",
    "\n",
    "    if num_diff_chars**block_size >= n:\n",
    "        return block_size-1\n",
    "    else:\n",
    "        return block_size"
   ]
  },
  {
   "cell_type": "code",
   "execution_count": 15,
   "metadata": {},
   "outputs": [],
   "source": [
    "def decrypt_RSA(ci_text, key, n):\n",
    "    pl_text = ''\n",
    "    r = find_block_size(DISTINCT, n)\n",
    "    s = r+1\n",
    "    \n",
    "    for i in range(0, len(ci_text), s):\n",
    "        block = ci_text[i:i+s]\n",
    "        C = 0\n",
    "        for j, ch in enumerate(block[::-1]): # Reverse of encryption\n",
    "            if ch=='-':\n",
    "                C += (FIX)*(DISTINCT**j)\n",
    "            elif '0' <= ch <= '9':\n",
    "                C += (ord(ch) - ord('0') + FIX_NUM)*(DISTINCT**j)\n",
    "            else:\n",
    "                C += (ord(ch) - ord('a'))*(DISTINCT**j)\n",
    "        M = pow(C, key, n)\n",
    "    \n",
    "        updated_block = ''\n",
    "        for j in range(r-1,-1,-1):\n",
    "            temp = M // (DISTINCT**j)\n",
    "            M -= temp*(DISTINCT**j)\n",
    "            \n",
    "            # for Numbers\n",
    "            if FIX_NUM <= temp <= FIX_NUM+9:\n",
    "                updated_block += chr(temp-FIX_NUM + ord('0'))\n",
    "            else:\n",
    "                if temp == FIX: temp = CHECK # for '-'\n",
    "                updated_block += chr(temp+ord('a'))\n",
    "            \n",
    "        pl_text += updated_block[::-1]\n",
    "    \n",
    "    return pl_text"
   ]
  },
  {
   "cell_type": "code",
   "execution_count": 39,
   "metadata": {},
   "outputs": [
    {
     "data": {
      "text/plain": [
       "(189125017868028636027158360011998470834279375927220104042860142027994757870456794678346707433564701876733199586646168603749840328713730068149176297392555866629292298642774128813058833887467862677281693485137536864464139684158052757945273968150505760451029010549580799681444461865842634918020762228809853592631,\n",
       " 242040887631779606594853804079271825485710532099336836847866212702935771705031238008677150944233780835224865168609296071165478934663144144841441840395522571882199996629949660801960979287161151988874673383609196088337722347350738497735657892399090688105776977351730172656284782700536454965698606234358145110461)"
      ]
     },
     "execution_count": 39,
     "metadata": {},
     "output_type": "execute_result"
    }
   ],
   "source": [
    "S_e, S_d, S_p, S_q = map(int, list(map(remove_extra_a, decrypt_RSA(S_keys, CA_e, CA_n).split('-'))))\n",
    "S_n = S_p * S_q\n",
    "S_e, S_n"
   ]
  },
  {
   "cell_type": "code",
   "execution_count": 25,
   "metadata": {},
   "outputs": [
    {
     "data": {
      "text/plain": [
       "(315820632263979017878161762394302849274589930349009512674958537510958416196229174309098013513169878744460359883219367985131777278006572591996609575442911810174626303478154563402971881960543738514710946295281295075523784808614096615851071419616372788891886068112076614158409702857991771153536869252322291962319,\n",
       " 344010777879088481031507999194085021140454856134195503895336364406761032637323366438840132944116021261062696965546608978571229893316962538566828500500691924375327511481068626428396302362642636961820385207207633859079299281701162249511963975817518133748188893252472503530830574447124507071437246698852793502841)"
      ]
     },
     "execution_count": 25,
     "metadata": {},
     "output_type": "execute_result"
    }
   ],
   "source": [
    "for row in open('public_dir.txt', 'r').read().split('\\n')[:-1]:\n",
    "    row_details = row.split(' ')\n",
    "    if int(row_details[0]) == R_ID:\n",
    "#         R_e, R_n = row_details[1], row_details[2]\n",
    "        R_keys = row_details[1]\n",
    "        R_e, R_n = map(int, list(map(remove_extra_a, decrypt_RSA(R_keys, CA_e, CA_n).split('-'))))\n",
    "R_e, R_n"
   ]
  },
  {
   "cell_type": "code",
   "execution_count": 26,
   "metadata": {},
   "outputs": [],
   "source": [
    "def clean(msg):\n",
    "    msg = msg.lower()\n",
    "    clean_msg = ''\n",
    "    \n",
    "    for ch in msg:\n",
    "        if 'a' <= ch <= 'z':\n",
    "            clean_msg += ch\n",
    "    return clean_msg"
   ]
  },
  {
   "cell_type": "code",
   "execution_count": 27,
   "metadata": {},
   "outputs": [],
   "source": [
    "def generate_key_vignere(length=20, distinct=True):\n",
    "    \"\"\"\n",
    "        key length should be <= 26, else distinct not possible.\n",
    "    \"\"\"\n",
    "    if distinct and length<=26:\n",
    "        all_idx = [i for i in range(26)]\n",
    "        random.shuffle(all_idx)\n",
    "        return ''.join([chr(idx + ord('a')) for idx in all_idx[:length]])\n",
    "    else:\n",
    "        all_idx = [random.randint(0,25) for i in range(length)]\n",
    "        return ''.join([chr(idx + ord('a')) for idx in all_idx])"
   ]
  },
  {
   "cell_type": "code",
   "execution_count": 28,
   "metadata": {},
   "outputs": [
    {
     "data": {
      "text/plain": [
       "('hellothisisabeautifuldaythishasbeenacrazyridethedeardepartedandhereweareinthreatofcoronaviruswillyoubenumber',\n",
       " 'kyomhwctjbzndqilfexv')"
      ]
     },
     "execution_count": 28,
     "metadata": {},
     "output_type": "execute_result"
    }
   ],
   "source": [
    "key_vig = generate_key_vignere()\n",
    "\n",
    "msg = 'hellothis is a beautiful day! This has been a crazy ride. The dear departed. And here we are in threat of coronavirus. Will you be number 1?'\n",
    "msg = clean(msg)\n",
    "msg, key_vig"
   ]
  },
  {
   "cell_type": "code",
   "execution_count": 29,
   "metadata": {},
   "outputs": [],
   "source": [
    "def encrypt_vignere(pl_text, key):\n",
    "    \"\"\"\n",
    "        Takes plain_text(Lowercase Letters) and key as argument and returns encrypted cipher_text.\n",
    "    \"\"\"\n",
    "    ci_text = ''\n",
    "    key_len = len(key)\n",
    "    for i in range(len(pl_text)):\n",
    "        ci_char = ( ord(pl_text[i]) - ord('a') + ord(key[i%key_len]) - ord('a') )%26\n",
    "        ci_text += chr( ci_char + ord('a') )\n",
    "    \n",
    "    return ci_text"
   ]
  },
  {
   "cell_type": "code",
   "execution_count": 30,
   "metadata": {},
   "outputs": [
    {
     "data": {
      "text/plain": [
       "'kyomhwctjbzndqilfexv-rczxvpjbbjrneuifymcpvbokadklqbrohuvlhvxuipwplpjxmfzeguxlwxbyklrtlngpnbqrldbswixoydqaykptejqhvmqwqclplcbgtxgk'"
      ]
     },
     "execution_count": 30,
     "metadata": {},
     "output_type": "execute_result"
    }
   ],
   "source": [
    "ci_text_vig = encrypt_vignere(msg, key_vig)\n",
    "\n",
    "msg_for_RSA = key_vig + '-' + ci_text_vig\n",
    "msg_for_RSA"
   ]
  },
  {
   "cell_type": "code",
   "execution_count": 116,
   "metadata": {},
   "outputs": [],
   "source": []
  },
  {
   "cell_type": "code",
   "execution_count": 32,
   "metadata": {},
   "outputs": [],
   "source": [
    "def encrypt_RSA(pl_text, key, n):\n",
    "    ci_text = ''\n",
    "    r = find_block_size(DISTINCT, n)\n",
    "    s = r+1\n",
    "    for i in range(0, len(pl_text), r):\n",
    "        block = pl_text[i:i+r]\n",
    "        M = 0\n",
    "        for j, ch in enumerate(block):\n",
    "            if ch=='-':\n",
    "                M += (FIX)*(DISTINCT**j)\n",
    "            elif '0' <= ch <= '9':\n",
    "                M += (ord(ch) - ord('0') + FIX_NUM)*(DISTINCT**j)\n",
    "            else:\n",
    "                M += (ord(ch) - ord('a'))*(DISTINCT**j)\n",
    "        C = pow(M, key, n)\n",
    "        for j in range(s-1,-1,-1):\n",
    "            temp = C // (DISTINCT**j)\n",
    "            C -= temp*(DISTINCT**j)\n",
    "            \n",
    "            # for Numbers\n",
    "            if FIX_NUM <= temp <= FIX_NUM+9:\n",
    "                ci_text += chr(temp-FIX_NUM + ord('0'))\n",
    "            else:\n",
    "                if temp == FIX: temp = CHECK # for '-'\n",
    "                ci_text += chr(temp+ord('a'))\n",
    "\n",
    "    return ci_text"
   ]
  },
  {
   "cell_type": "code",
   "execution_count": 118,
   "metadata": {},
   "outputs": [],
   "source": [
    "# e = 7\n",
    "# p = 149\n",
    "# q = 151\n",
    "# phi_n = (p-1)*(q-1)\n",
    "\n",
    "# d=0\n",
    "# for i in range(2, phi_n):\n",
    "#     if i*e % phi_n == 1:\n",
    "#         d=i%phi_n\n",
    "#         break\n",
    "# d"
   ]
  },
  {
   "cell_type": "code",
   "execution_count": 33,
   "metadata": {},
   "outputs": [],
   "source": [
    "# msg_for_RSA = '95672739'"
   ]
  },
  {
   "cell_type": "code",
   "execution_count": 36,
   "metadata": {},
   "outputs": [
    {
     "data": {
      "text/plain": [
       "'d2jgxkw65n0vtn1occziditxej3fn64wcbns5tiobe69u32jgrz0x6lysyx18-zc3wv7o0kqx1yakh5t0q1tx35kz35m-fpmk-podix8i-86m9re4ivae7x1uttscxs95rfz3o36xuln7rryxszdosehkga4dwvvh7lzwzir0tskvq96seqwppy55mp6tm-oxqj9o'"
      ]
     },
     "execution_count": 36,
     "metadata": {},
     "output_type": "execute_result"
    }
   ],
   "source": [
    "digitally_signed = encrypt_RSA(msg_for_RSA, S_d, S_n)\n",
    "digitally_signed"
   ]
  },
  {
   "cell_type": "code",
   "execution_count": 37,
   "metadata": {},
   "outputs": [
    {
     "data": {
      "text/plain": [
       "'ojw12nwf7y3io2i0th3gm62emi29bqc0wqfy928ed6r3g9m1dz2cq-t677nvfiqqwvfkvyb33ielfikl2lghmve2xr5od-1ydljv02unyx1u5drhlhforec7cke9oeebe8qoiszy61s8d6adxiat0f0nrqf651bv4q0xpluw4upaawfxyssfszujmztt52uvpy-cbesufa0olfpiy3pms6k9925-7pwkvvmvhxiyx438qfym3zhmg7xog0mih27l7ehm7pxums474tyoobj-k20l-sqs73cfrrpd6rlsoc400lh0z7svmqdfusnovt841q82ulck3s7goalz94pj55oiu0hx5sor61sydnaewnap4zr2s7duabomcrnsmt5jb5oy7i8qv9'"
      ]
     },
     "execution_count": 37,
     "metadata": {},
     "output_type": "execute_result"
    }
   ],
   "source": [
    "final_to_send = encrypt_RSA(digitally_signed, R_e, R_n)\n",
    "final_to_send"
   ]
  },
  {
   "cell_type": "code",
   "execution_count": 38,
   "metadata": {},
   "outputs": [
    {
     "data": {
      "text/plain": [
       "394"
      ]
     },
     "execution_count": 38,
     "metadata": {},
     "output_type": "execute_result"
    }
   ],
   "source": [
    "open('send_over_unsafe_network.txt','w+').write(final_to_send)"
   ]
  },
  {
   "cell_type": "code",
   "execution_count": 52,
   "metadata": {},
   "outputs": [],
   "source": []
  },
  {
   "cell_type": "code",
   "execution_count": null,
   "metadata": {},
   "outputs": [],
   "source": []
  }
 ],
 "metadata": {
  "kernelspec": {
   "display_name": "Python 3",
   "language": "python",
   "name": "python3"
  },
  "language_info": {
   "codemirror_mode": {
    "name": "ipython",
    "version": 3
   },
   "file_extension": ".py",
   "mimetype": "text/x-python",
   "name": "python",
   "nbconvert_exporter": "python",
   "pygments_lexer": "ipython3",
   "version": "3.6.9"
  }
 },
 "nbformat": 4,
 "nbformat_minor": 2
}
