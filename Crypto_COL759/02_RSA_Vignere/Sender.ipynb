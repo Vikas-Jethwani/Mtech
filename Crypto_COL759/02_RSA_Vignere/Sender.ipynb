{
 "cells": [
  {
   "cell_type": "code",
   "execution_count": 1,
   "metadata": {},
   "outputs": [],
   "source": [
    "import math # for log"
   ]
  },
  {
   "cell_type": "code",
   "execution_count": 2,
   "metadata": {},
   "outputs": [],
   "source": [
    "DISTINCT = 27\n",
    "MY_ID = 1\n",
    "CHECK = ord('-')-ord('a')\n",
    "FIX = 26 # for CHECK"
   ]
  },
  {
   "cell_type": "code",
   "execution_count": 3,
   "metadata": {},
   "outputs": [],
   "source": [
    "def clean(msg):\n",
    "    msg = msg.lower()\n",
    "    clean_msg = ''\n",
    "    \n",
    "    for ch in msg:\n",
    "        if 'a' <= ch <= 'z':\n",
    "            clean_msg += ch\n",
    "    return clean_msg"
   ]
  },
  {
   "cell_type": "code",
   "execution_count": 4,
   "metadata": {},
   "outputs": [],
   "source": [
    "import random\n",
    "def generate_key_vignere(length=20, distinct=True):\n",
    "    \"\"\"\n",
    "        key length should be <= 26, else distinct not possible.\n",
    "    \"\"\"\n",
    "    if distinct and length<=26:\n",
    "        all_idx = [i for i in range(26)]\n",
    "        random.shuffle(all_idx)\n",
    "        return ''.join([chr(idx + ord('a')) for idx in all_idx[:length]])\n",
    "    else:\n",
    "        all_idx = [random.randint(0,25) for i in range(length)]\n",
    "        return ''.join([chr(idx + ord('a')) for idx in all_idx])"
   ]
  },
  {
   "cell_type": "code",
   "execution_count": 5,
   "metadata": {},
   "outputs": [],
   "source": [
    "# num_to_english = {1:'one', 2:'two', 3:'three', 4:'four', 5:'five', 6:'six', 7:'seven', 8:'eight', 9:'nine', 10:'ten', 11:'eleven', 12:'twelve', 13:'thirteen', 14:'fourteen', 15:'fifteen', 16:'sixteen', 17:'seventeen', 18:'eighteen', 19:'nineteen', 20:'twenty', 21:'twentyone', 22:'twentytwo', 23:'twentythree', 24:'twentyfour', 25:'twentyfive', 26:'twentysix'}\n",
    "\n",
    "# key_len = 20\n",
    "# key = generate_key_vignere(key_len)\n",
    "\n",
    "# msg = 'hellothis is a beautiful day!'\n",
    "# msg = clean(msg)\n",
    "# msg = num_to_english[key_len] + key + msg\n",
    "# msg"
   ]
  },
  {
   "cell_type": "code",
   "execution_count": 6,
   "metadata": {},
   "outputs": [
    {
     "data": {
      "text/plain": [
       "('hellothisisabeautifulday', 'hykfmxroeadnbgzpcviw')"
      ]
     },
     "execution_count": 6,
     "metadata": {},
     "output_type": "execute_result"
    }
   ],
   "source": [
    "key_vig = generate_key_vignere()\n",
    "\n",
    "msg = 'hellothis is a beautiful day!'\n",
    "msg = clean(msg)\n",
    "msg, key_vig"
   ]
  },
  {
   "cell_type": "code",
   "execution_count": 7,
   "metadata": {},
   "outputs": [],
   "source": [
    "def encrypt_vignere(pl_text, key):\n",
    "    \"\"\"\n",
    "        Takes plain_text(Lowercase Letters) and key as argument and returns encrypted cipher_text.\n",
    "    \"\"\"\n",
    "    ci_text = ''\n",
    "    key_len = len(key)\n",
    "    for i in range(len(pl_text)):\n",
    "        ci_char = ( ord(pl_text[i]) - ord('a') + ord(key[i%key_len]) - ord('a') )%26\n",
    "        ci_text += chr( ci_char + ord('a') )\n",
    "    \n",
    "    return ci_text"
   ]
  },
  {
   "cell_type": "code",
   "execution_count": 8,
   "metadata": {},
   "outputs": [
    {
     "data": {
      "text/plain": [
       "'hykfmxroeadnbgzpcviw-ocvqaqywwivnckzjvdnqsbkd'"
      ]
     },
     "execution_count": 8,
     "metadata": {},
     "output_type": "execute_result"
    }
   ],
   "source": [
    "ci_text_vig = encrypt_vignere(msg, key_vig)\n",
    "\n",
    "msg_for_RSA = key_vig + '-' + ci_text_vig\n",
    "msg_for_RSA"
   ]
  },
  {
   "cell_type": "code",
   "execution_count": 9,
   "metadata": {},
   "outputs": [
    {
     "name": "stdout",
     "output_type": "stream",
     "text": [
      "65537 18257179258442105089 5915587277 5915587277\r\n"
     ]
    }
   ],
   "source": [
    "cat private_1.txt"
   ]
  },
  {
   "cell_type": "code",
   "execution_count": null,
   "metadata": {},
   "outputs": [],
   "source": []
  },
  {
   "cell_type": "code",
   "execution_count": null,
   "metadata": {},
   "outputs": [],
   "source": []
  },
  {
   "cell_type": "code",
   "execution_count": 13,
   "metadata": {},
   "outputs": [],
   "source": [
    "def find_block_size(num_diff_chars, n):\n",
    "    block_size = int(math.log(n, num_diff_chars))\n",
    "\n",
    "    if num_diff_chars**block_size == n:\n",
    "        return block_size-1\n",
    "    else:\n",
    "        return block_size"
   ]
  },
  {
   "cell_type": "code",
   "execution_count": 31,
   "metadata": {},
   "outputs": [],
   "source": [
    "def mod_pow(x, n, m):\n",
    "    ans = 1\n",
    "    for i in range(n):\n",
    "        ans = ans*x % m\n",
    "    return ans"
   ]
  },
  {
   "cell_type": "code",
   "execution_count": 90,
   "metadata": {},
   "outputs": [],
   "source": [
    "def encrypt_RSA(pl_text, key, n):\n",
    "    ci_text = ''\n",
    "    r = find_block_size(DISTINCT, n)\n",
    "    s = r+1\n",
    "    for i in range(0, len(pl_text), r):\n",
    "        block = pl_text[i:i+r]\n",
    "        M = 0\n",
    "        for j, ch in enumerate(block):\n",
    "            if ch=='-':\n",
    "                M += (FIX)*(DISTINCT**j)\n",
    "            else:\n",
    "                M += (ord(ch) - ord('a'))*(DISTINCT**j)\n",
    "#         C = M**key % n\n",
    "        C = mod_pow(M, key, n)\n",
    "        for j in range(s-1,-1,-1):\n",
    "            temp = C // (DISTINCT**j)\n",
    "            C -= temp*(DISTINCT**j)\n",
    "            if temp == 26: temp = CHECK # for '-'\n",
    "            \n",
    "            ci_text += chr(temp+ord('a'))\n",
    "        \n",
    "    return ci_text"
   ]
  },
  {
   "cell_type": "code",
   "execution_count": 96,
   "metadata": {},
   "outputs": [
    {
     "data": {
      "text/plain": [
       "6343"
      ]
     },
     "execution_count": 96,
     "metadata": {},
     "output_type": "execute_result"
    }
   ],
   "source": [
    "e = 7\n",
    "p = 149\n",
    "q = 151\n",
    "phi_n = (p-1)*(q-1)\n",
    "\n",
    "d=0\n",
    "for i in range(2, phi_n):\n",
    "    if i*e % phi_n == 1:\n",
    "        d=i%phi_n\n",
    "        break\n",
    "d"
   ]
  },
  {
   "cell_type": "code",
   "execution_count": 97,
   "metadata": {},
   "outputs": [
    {
     "data": {
      "text/plain": [
       "'aasvacdealppabala-oiamgiavsybahsamzeajwiaxubatiwaavwallfacox'"
      ]
     },
     "execution_count": 97,
     "metadata": {},
     "output_type": "execute_result"
    }
   ],
   "source": [
    "# e, d, p, q = map(int, open('private_' + str(MY_ID) + '.txt', 'r').read().split())\n",
    "\n",
    "encrypt_RSA(msg_for_RSA, e, p*q)"
   ]
  },
  {
   "cell_type": "code",
   "execution_count": null,
   "metadata": {},
   "outputs": [],
   "source": []
  },
  {
   "cell_type": "code",
   "execution_count": 98,
   "metadata": {},
   "outputs": [],
   "source": [
    "def decrypt_RSA(ci_text, key, n):\n",
    "    pl_text = ''\n",
    "    r = find_block_size(DISTINCT, n)\n",
    "    s = r+1\n",
    "    \n",
    "    for i in range(0, len(ci_text), s):\n",
    "        block = ci_text[i:i+s]\n",
    "        C = 0\n",
    "        for j, ch in enumerate(block[::-1]): # Reverse of encryption\n",
    "            if ch=='-':\n",
    "                C += (FIX)*(DISTINCT**j)\n",
    "            else:\n",
    "                C += (ord(ch) - ord('a'))*(DISTINCT**j)\n",
    "#         C = M**key % n\n",
    "        M = mod_pow(C, key, n)\n",
    "    \n",
    "        updated_block = ''\n",
    "        for j in range(r-1,-1,-1):\n",
    "            temp = M // (DISTINCT**j)\n",
    "            M -= temp*(DISTINCT**j)\n",
    "            if temp == 26: temp = CHECK # for '-'\n",
    "            \n",
    "            updated_block += chr(temp+ord('a'))\n",
    "        pl_text += updated_block[::-1]\n",
    "    \n",
    "    return pl_text"
   ]
  },
  {
   "cell_type": "code",
   "execution_count": 99,
   "metadata": {},
   "outputs": [
    {
     "data": {
      "text/plain": [
       "'hykfmxroeadnbgzpcviw-ocvqaqywwivnckzjvdnqsbkd'"
      ]
     },
     "execution_count": 99,
     "metadata": {},
     "output_type": "execute_result"
    }
   ],
   "source": [
    "decrypt_RSA('aasvacdealppabala-oiamgiavsybahsamzeajwiaxubatiwaavwallfacox',d,p*q)"
   ]
  },
  {
   "cell_type": "code",
   "execution_count": null,
   "metadata": {},
   "outputs": [],
   "source": []
  },
  {
   "cell_type": "code",
   "execution_count": null,
   "metadata": {},
   "outputs": [],
   "source": []
  }
 ],
 "metadata": {
  "kernelspec": {
   "display_name": "Python 3",
   "language": "python",
   "name": "python3"
  },
  "language_info": {
   "codemirror_mode": {
    "name": "ipython",
    "version": 3
   },
   "file_extension": ".py",
   "mimetype": "text/x-python",
   "name": "python",
   "nbconvert_exporter": "python",
   "pygments_lexer": "ipython3",
   "version": "3.7.6"
  }
 },
 "nbformat": 4,
 "nbformat_minor": 2
}
