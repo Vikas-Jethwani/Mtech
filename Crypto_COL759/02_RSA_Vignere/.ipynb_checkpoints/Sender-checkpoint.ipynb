{
 "cells": [
  {
   "cell_type": "code",
   "execution_count": 91,
   "metadata": {},
   "outputs": [],
   "source": [
    "import math # for log\n",
    "import random # for vignere key generation"
   ]
  },
  {
   "cell_type": "code",
   "execution_count": 92,
   "metadata": {},
   "outputs": [],
   "source": [
    "DISTINCT = 37\n",
    "S_ID = 1\n",
    "R_ID = 2\n",
    "CHECK = ord('-')-ord('a') # for '-'\n",
    "FIX = 26 # for '-'\n",
    "FIX_NUM = 27 # for number '0' and so on..."
   ]
  },
  {
   "cell_type": "code",
   "execution_count": 93,
   "metadata": {},
   "outputs": [],
   "source": [
    "CA_e, CA_n = map(int, open('public_CA.txt', 'r').read().split())"
   ]
  },
  {
   "cell_type": "code",
   "execution_count": 94,
   "metadata": {},
   "outputs": [
    {
     "data": {
      "text/plain": [
       "(17498177282775871407924995336104865047147532910862794705535452389877241061193214073037109490279806914655891159944651662572138806742720798764186848651761153,\n",
       " 18914448963066764731078223413867589851609964931053620855523125116749548894992365801042207262589880505269660866637387380295479872413648174678752745894709869)"
      ]
     },
     "execution_count": 94,
     "metadata": {},
     "output_type": "execute_result"
    }
   ],
   "source": [
    "CA_e, CA_n"
   ]
  },
  {
   "cell_type": "code",
   "execution_count": 95,
   "metadata": {},
   "outputs": [
    {
     "name": "stdout",
     "output_type": "stream",
     "text": [
      "1 21105570766843659328511593158656167168148006995416558605623474933672397766396078713615849211036268177245175640742365642309258709599039785367620791025387531 24544151009964545158982814316391649007352047690434335241522430839611657798601334528424220606833407501510652994016951536567312845740123722873490739879818543\r\n",
      "2 18673377149495571239761168825306369573088289223486129825999649966932155193861141947859237757958402469353413176573481951097236886072316197512133244760473073 23050320091441224337860393078569837497281936378238830147728396679068198542793748142426518915684924245793070840988760814436977985422844739981400916276881969\r\n",
      "3 15675277355078878911170389238273183925663913558010588792950077727848369807796940049350178835344813728468196852792005007665334836998172536988386095431095561 20286053949125415491657683348078379141320613027876838550315910818260897179928089113574271269466010025675001609047435105868452642708870138930234237010937717\r\n"
     ]
    }
   ],
   "source": [
    "cat public_dir.txt"
   ]
  },
  {
   "cell_type": "code",
   "execution_count": 96,
   "metadata": {},
   "outputs": [
    {
     "data": {
      "text/plain": [
       "'drdxvcc369qk47e4zt2q2bmqnfywyuokoj982kld7ii6z05gxb7-02o6jm6az-st6niv7r8f7aux0-p2era849zhyo7j85x5aljdobqx8ql3dc6k2ab75pxlkyr4zlhwm19atit8vqs82d1ci9ydj9vwj83mn5z1l27fbohygbjh6fg9-ihm1t8ydye5gs01ux7iptdbjh7o9iu4xmzm6byeg4bffks6l1qmcp75s3mvxsra9elyyfsmtkozyq-ly3dwao3ra5y-yg4mptuqp5ugjut80ow-qfhow6ic5cs2iiulu7m6by4up1ik8dx7ubu88dyfywk3wtl4nz69fl45rw-o0uq3lh056o1i9wd8u6p7f1olq6zbki2gu11k-nl3kh2nm45nd-gbbc8a9z3qjwl-3n80ydcrhcs6m6-1ws06qb36ekx9yk0vdra16evanamf8k7j74pa8stnvpk7qx9201hvozbx1r8gz68-5mh'"
      ]
     },
     "execution_count": 96,
     "metadata": {},
     "output_type": "execute_result"
    }
   ],
   "source": [
    "S_keys = open('private_' + str(S_ID) + '.txt', 'r').read() # Encrypted by CA\n",
    "S_keys"
   ]
  },
  {
   "cell_type": "code",
   "execution_count": 99,
   "metadata": {},
   "outputs": [],
   "source": [
    "def remove_extra_a(with_a):\n",
    "    return with_a.rstrip('a')"
   ]
  },
  {
   "cell_type": "code",
   "execution_count": 100,
   "metadata": {},
   "outputs": [],
   "source": [
    "def decrypt_RSA(ci_text, key, n):\n",
    "    pl_text = ''\n",
    "    r = find_block_size(DISTINCT, n)\n",
    "    s = r+1\n",
    "    \n",
    "    for i in range(0, len(ci_text), s):\n",
    "        block = ci_text[i:i+s]\n",
    "        C = 0\n",
    "        for j, ch in enumerate(block[::-1]): # Reverse of encryption\n",
    "            if ch=='-':\n",
    "                C += (FIX)*(DISTINCT**j)\n",
    "            elif '0' <= ch <= '9':\n",
    "                C += (ord(ch) - ord('0') + FIX_NUM)*(DISTINCT**j)\n",
    "            else:\n",
    "                C += (ord(ch) - ord('a'))*(DISTINCT**j)\n",
    "        M = pow(C, key, n)\n",
    "    \n",
    "        updated_block = ''\n",
    "        for j in range(r-1,-1,-1):\n",
    "            temp = M // (DISTINCT**j)\n",
    "            M -= temp*(DISTINCT**j)\n",
    "            \n",
    "            # for Numbers\n",
    "            if FIX_NUM <= temp <= FIX_NUM+9:\n",
    "                updated_block += chr(temp-FIX_NUM + ord('0'))\n",
    "            else:\n",
    "                if temp == FIX: temp = CHECK # for '-'\n",
    "                updated_block += chr(temp+ord('a'))\n",
    "            \n",
    "        pl_text += updated_block[::-1]\n",
    "    \n",
    "    return pl_text"
   ]
  },
  {
   "cell_type": "code",
   "execution_count": 106,
   "metadata": {},
   "outputs": [
    {
     "data": {
      "text/plain": [
       "(21105570766843659328511593158656167168148006995416558605623474933672397766396078713615849211036268177245175640742365642309258709599039785367620791025387531,\n",
       " 116523682679312954401602427778313903695336158972317146863125513954615429448211)"
      ]
     },
     "execution_count": 106,
     "metadata": {},
     "output_type": "execute_result"
    }
   ],
   "source": [
    "S_e, S_d, S_p, S_q = map(int, list(map(remove_extra_a, decrypt_RSA(S_keys, CA_e, CA_n).split('-'))))\n",
    "S_n = S_p * S_q\n",
    "S_e, S_p"
   ]
  },
  {
   "cell_type": "code",
   "execution_count": 108,
   "metadata": {},
   "outputs": [
    {
     "data": {
      "text/plain": [
       "(18673377149495571239761168825306369573088289223486129825999649966932155193861141947859237757958402469353413176573481951097236886072316197512133244760473073,\n",
       " 23050320091441224337860393078569837497281936378238830147728396679068198542793748142426518915684924245793070840988760814436977985422844739981400916276881969)"
      ]
     },
     "execution_count": 108,
     "metadata": {},
     "output_type": "execute_result"
    }
   ],
   "source": [
    "for row in open('public_dir.txt', 'r').read().split('\\n')[:-1]:\n",
    "    row_details = list(map(int, row.split(' ')))\n",
    "    if row_details[0] == R_ID:\n",
    "        R_e, R_n = row_details[1], row_details[2]\n",
    "R_e, R_n"
   ]
  },
  {
   "cell_type": "code",
   "execution_count": 109,
   "metadata": {},
   "outputs": [],
   "source": [
    "def clean(msg):\n",
    "    msg = msg.lower()\n",
    "    clean_msg = ''\n",
    "    \n",
    "    for ch in msg:\n",
    "        if 'a' <= ch <= 'z':\n",
    "            clean_msg += ch\n",
    "    return clean_msg"
   ]
  },
  {
   "cell_type": "code",
   "execution_count": 110,
   "metadata": {},
   "outputs": [],
   "source": [
    "def generate_key_vignere(length=20, distinct=True):\n",
    "    \"\"\"\n",
    "        key length should be <= 26, else distinct not possible.\n",
    "    \"\"\"\n",
    "    if distinct and length<=26:\n",
    "        all_idx = [i for i in range(26)]\n",
    "        random.shuffle(all_idx)\n",
    "        return ''.join([chr(idx + ord('a')) for idx in all_idx[:length]])\n",
    "    else:\n",
    "        all_idx = [random.randint(0,25) for i in range(length)]\n",
    "        return ''.join([chr(idx + ord('a')) for idx in all_idx])"
   ]
  },
  {
   "cell_type": "code",
   "execution_count": 111,
   "metadata": {},
   "outputs": [],
   "source": [
    "# num_to_english = {1:'one', 2:'two', 3:'three', 4:'four', 5:'five', 6:'six', 7:'seven', 8:'eight', 9:'nine', 10:'ten', 11:'eleven', 12:'twelve', 13:'thirteen', 14:'fourteen', 15:'fifteen', 16:'sixteen', 17:'seventeen', 18:'eighteen', 19:'nineteen', 20:'twenty', 21:'twentyone', 22:'twentytwo', 23:'twentythree', 24:'twentyfour', 25:'twentyfive', 26:'twentysix'}\n",
    "\n",
    "# key_len = 20\n",
    "# key = generate_key_vignere(key_len)\n",
    "\n",
    "# msg = 'hellothis is a beautiful day!'\n",
    "# msg = clean(msg)\n",
    "# msg = num_to_english[key_len] + key + msg\n",
    "# msg"
   ]
  },
  {
   "cell_type": "code",
   "execution_count": 112,
   "metadata": {},
   "outputs": [
    {
     "data": {
      "text/plain": [
       "('hellothisisabeautifulday', 'hexsdoyuzwpqjkfmtvcl')"
      ]
     },
     "execution_count": 112,
     "metadata": {},
     "output_type": "execute_result"
    }
   ],
   "source": [
    "key_vig = generate_key_vignere()\n",
    "\n",
    "msg = 'hellothis is a beautiful day!'\n",
    "msg = clean(msg)\n",
    "msg, key_vig"
   ]
  },
  {
   "cell_type": "code",
   "execution_count": 113,
   "metadata": {},
   "outputs": [],
   "source": [
    "def encrypt_vignere(pl_text, key):\n",
    "    \"\"\"\n",
    "        Takes plain_text(Lowercase Letters) and key as argument and returns encrypted cipher_text.\n",
    "    \"\"\"\n",
    "    ci_text = ''\n",
    "    key_len = len(key)\n",
    "    for i in range(len(pl_text)):\n",
    "        ci_char = ( ord(pl_text[i]) - ord('a') + ord(key[i%key_len]) - ord('a') )%26\n",
    "        ci_text += chr( ci_char + ord('a') )\n",
    "    \n",
    "    return ci_text"
   ]
  },
  {
   "cell_type": "code",
   "execution_count": 114,
   "metadata": {},
   "outputs": [
    {
     "data": {
      "text/plain": [
       "'hexsdoyuzwpqjkfmtvcl-oiidrhfcrehqkofgmdhfshxq'"
      ]
     },
     "execution_count": 114,
     "metadata": {},
     "output_type": "execute_result"
    }
   ],
   "source": [
    "ci_text_vig = encrypt_vignere(msg, key_vig)\n",
    "\n",
    "msg_for_RSA = key_vig + '-' + ci_text_vig\n",
    "msg_for_RSA"
   ]
  },
  {
   "cell_type": "code",
   "execution_count": 115,
   "metadata": {},
   "outputs": [
    {
     "name": "stdout",
     "output_type": "stream",
     "text": [
      "drdxvcc369qk47e4zt2q2bmqnfywyuokoj982kld7ii6z05gxb7-02o6jm6az-st6niv7r8f7aux0-p2era849zhyo7j85x5aljdobqx8ql3dc6k2ab75pxlkyr4zlhwm19atit8vqs82d1ci9ydj9vwj83mn5z1l27fbohygbjh6fg9-ihm1t8ydye5gs01ux7iptdbjh7o9iu4xmzm6byeg4bffks6l1qmcp75s3mvxsra9elyyfsmtkozyq-ly3dwao3ra5y-yg4mptuqp5ugjut80ow-qfhow6ic5cs2iiulu7m6by4up1ik8dx7ubu88dyfywk3wtl4nz69fl45rw-o0uq3lh056o1i9wd8u6p7f1olq6zbki2gu11k-nl3kh2nm45nd-gbbc8a9z3qjwl-3n80ydcrhcs6m6-1ws06qb36ekx9yk0vdra16evanamf8k7j74pa8stnvpk7qx9201hvozbx1r8gz68-5mh"
     ]
    }
   ],
   "source": [
    "cat private_1.txt"
   ]
  },
  {
   "cell_type": "code",
   "execution_count": null,
   "metadata": {},
   "outputs": [],
   "source": []
  },
  {
   "cell_type": "code",
   "execution_count": null,
   "metadata": {},
   "outputs": [],
   "source": []
  },
  {
   "cell_type": "code",
   "execution_count": 116,
   "metadata": {},
   "outputs": [],
   "source": [
    "def find_block_size(num_diff_chars, n):\n",
    "    block_size = int(math.log(n, num_diff_chars))\n",
    "\n",
    "    if num_diff_chars**block_size == n:\n",
    "        return block_size-1\n",
    "    else:\n",
    "        return block_size"
   ]
  },
  {
   "cell_type": "code",
   "execution_count": 117,
   "metadata": {},
   "outputs": [],
   "source": [
    "def encrypt_RSA(pl_text, key, n):\n",
    "    ci_text = ''\n",
    "    r = find_block_size(DISTINCT, n)\n",
    "    s = r+1\n",
    "    for i in range(0, len(pl_text), r):\n",
    "        block = pl_text[i:i+r]\n",
    "        M = 0\n",
    "        for j, ch in enumerate(block):\n",
    "            if ch=='-':\n",
    "                M += (FIX)*(DISTINCT**j)\n",
    "            elif '0' <= ch <= '9':\n",
    "                M += (ord(ch) - ord('0') + FIX_NUM)*(DISTINCT**j)\n",
    "            else:\n",
    "                M += (ord(ch) - ord('a'))*(DISTINCT**j)\n",
    "        C = pow(M, key, n)\n",
    "        for j in range(s-1,-1,-1):\n",
    "            temp = C // (DISTINCT**j)\n",
    "            C -= temp*(DISTINCT**j)\n",
    "            \n",
    "            # for Numbers\n",
    "            if FIX_NUM <= temp <= FIX_NUM+9:\n",
    "                ci_text += chr(temp-FIX_NUM + ord('0'))\n",
    "            else:\n",
    "                if temp == FIX: temp = CHECK # for '-'\n",
    "                ci_text += chr(temp+ord('a'))\n",
    "\n",
    "    return ci_text"
   ]
  },
  {
   "cell_type": "code",
   "execution_count": 118,
   "metadata": {},
   "outputs": [],
   "source": [
    "# e = 7\n",
    "# p = 149\n",
    "# q = 151\n",
    "# phi_n = (p-1)*(q-1)\n",
    "\n",
    "# d=0\n",
    "# for i in range(2, phi_n):\n",
    "#     if i*e % phi_n == 1:\n",
    "#         d=i%phi_n\n",
    "#         break\n",
    "# d"
   ]
  },
  {
   "cell_type": "code",
   "execution_count": 119,
   "metadata": {},
   "outputs": [],
   "source": [
    "# msg_for_RSA = '95672739'"
   ]
  },
  {
   "cell_type": "code",
   "execution_count": 120,
   "metadata": {},
   "outputs": [],
   "source": [
    "digitally_signed = encrypt_RSA(msg_for_RSA, S_d, S_n)"
   ]
  },
  {
   "cell_type": "code",
   "execution_count": 121,
   "metadata": {},
   "outputs": [
    {
     "data": {
      "text/plain": [
       "'c1mmtzf3-ug9tl66gb378ow03yt67icp2wd5b934im18hwky5nb3d7-4twmdj2nhn-vh6532vdtq8b3kezrzt6gol8053qezi29'"
      ]
     },
     "execution_count": 121,
     "metadata": {},
     "output_type": "execute_result"
    }
   ],
   "source": [
    "digitally_signed"
   ]
  },
  {
   "cell_type": "code",
   "execution_count": 122,
   "metadata": {},
   "outputs": [],
   "source": [
    "final_to_send = encrypt_RSA(digitally_signed, R_e, R_n)"
   ]
  },
  {
   "cell_type": "code",
   "execution_count": 123,
   "metadata": {},
   "outputs": [
    {
     "data": {
      "text/plain": [
       "'ayr2134xbl4quunod7mpg2tzpmglrirmh7ors0yr97gesl59au3b8o27wecrkgqyelci94amtvhhyj2i055ud3arzivz3489065d7oky4l-w3s0erbkicowedn4et0ghyzx2nty5hz-2g-v31n70vy7iktebyf1iceutrjbo2sa349pp2l2gxtr-12lu-j259cppw-'"
      ]
     },
     "execution_count": 123,
     "metadata": {},
     "output_type": "execute_result"
    }
   ],
   "source": [
    "final_to_send"
   ]
  },
  {
   "cell_type": "code",
   "execution_count": 124,
   "metadata": {},
   "outputs": [
    {
     "data": {
      "text/plain": [
       "198"
      ]
     },
     "execution_count": 124,
     "metadata": {},
     "output_type": "execute_result"
    }
   ],
   "source": [
    "open('send_over_unsafe_network.txt','w+').write(final_to_send)"
   ]
  },
  {
   "cell_type": "code",
   "execution_count": 52,
   "metadata": {},
   "outputs": [],
   "source": []
  },
  {
   "cell_type": "code",
   "execution_count": null,
   "metadata": {},
   "outputs": [],
   "source": []
  }
 ],
 "metadata": {
  "kernelspec": {
   "display_name": "Python 3",
   "language": "python",
   "name": "python3"
  },
  "language_info": {
   "codemirror_mode": {
    "name": "ipython",
    "version": 3
   },
   "file_extension": ".py",
   "mimetype": "text/x-python",
   "name": "python",
   "nbconvert_exporter": "python",
   "pygments_lexer": "ipython3",
   "version": "3.6.9"
  }
 },
 "nbformat": 4,
 "nbformat_minor": 2
}
