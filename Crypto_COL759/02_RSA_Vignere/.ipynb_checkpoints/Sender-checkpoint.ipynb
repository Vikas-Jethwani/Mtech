{
 "cells": [
  {
   "cell_type": "code",
   "execution_count": 1,
   "metadata": {},
   "outputs": [],
   "source": [
    "import math # for log\n",
    "import random # for vignere key\n",
    "import gmpy2 # for mod_inverse"
   ]
  },
  {
   "cell_type": "code",
   "execution_count": 13,
   "metadata": {},
   "outputs": [],
   "source": [
    "# Global Constants\n",
    "DISTINCT = 36\n",
    "S_ID = 1\n",
    "R_ID = 2\n",
    "CHECK = ord('-')-ord('a') # for '-'\n",
    "FIX = 26 # for '-'\n",
    "FIX_NUM = 27 # for number '0' and so on..."
   ]
  },
  {
   "cell_type": "code",
   "execution_count": 3,
   "metadata": {},
   "outputs": [],
   "source": [
    "# CA Details\n",
    "CA_e, CA_n = map(int, open('public_CA.txt', 'r').read().split())"
   ]
  },
  {
   "cell_type": "code",
   "execution_count": null,
   "metadata": {},
   "outputs": [],
   "source": []
  },
  {
   "cell_type": "code",
   "execution_count": 4,
   "metadata": {},
   "outputs": [],
   "source": [
    "# To remove ('a'=0) appended while decrypting RSA\n",
    "def remove_extra_a(with_a):\n",
    "    return with_a.rstrip('a')"
   ]
  },
  {
   "cell_type": "code",
   "execution_count": 5,
   "metadata": {},
   "outputs": [],
   "source": [
    "# Find dynamic block size by formula mentioned in class\n",
    "def find_block_size(num_diff_chars, n):\n",
    "    block_size = int(math.log(n, num_diff_chars))\n",
    "\n",
    "    if num_diff_chars**block_size >= n:\n",
    "        return block_size-1\n",
    "    else:\n",
    "        return block_size"
   ]
  },
  {
   "cell_type": "code",
   "execution_count": null,
   "metadata": {},
   "outputs": [],
   "source": []
  },
  {
   "cell_type": "code",
   "execution_count": 16,
   "metadata": {},
   "outputs": [],
   "source": [
    "# RSA Encryption : Using CRT if possible\n",
    "def encrypt_RSA(pl_text, key, n, CRT='no', p=None, q=None):\n",
    "    ci_text = ''\n",
    "    r = find_block_size(DISTINCT, n)\n",
    "    print(r)\n",
    "    s = r+1\n",
    "    for i in range(0, len(pl_text), r):\n",
    "        block = pl_text[i:i+r]\n",
    "        M = 0\n",
    "        for j, ch in enumerate(block):\n",
    "            if ch=='-':\n",
    "                M += (FIX)*(DISTINCT**j)\n",
    "            elif '0' <= ch <= '9':\n",
    "                M += (ord(ch) - ord('0') + FIX_NUM)*(DISTINCT**j)\n",
    "            else:\n",
    "                M += (ord(ch) - ord('a'))*(DISTINCT**j)\n",
    "\n",
    "        # ====================================\n",
    "        if CRT=='no':\n",
    "            C = pow(M, key, n)\n",
    "        else:\n",
    "            dP = key % (p-1)\n",
    "            dQ = key % (q-1)\n",
    "\n",
    "            g, ss, t = gmpy2.gcdext(q, p)\n",
    "            q_inv = int(ss) % p\n",
    "\n",
    "            x1 = pow(M, dP, p)\n",
    "            x2 = pow(M, dQ, q)\n",
    "            h = q_inv*(x1-x2) % p\n",
    "            C = (x2 + h*q)\n",
    "        # ====================================\n",
    "        print(M, C)\n",
    "        for j in range(s-1,-1,-1):\n",
    "            temp = C // (DISTINCT**j)\n",
    "            C -= temp*(DISTINCT**j)\n",
    "            \n",
    "            # for Numbers\n",
    "            if FIX_NUM <= temp <= FIX_NUM+9:\n",
    "                ci_text += chr(temp-FIX_NUM + ord('0'))\n",
    "            else:\n",
    "                if temp == FIX: temp = CHECK # for '-'\n",
    "                ci_text += chr(temp+ord('a'))\n",
    "\n",
    "    return ci_text"
   ]
  },
  {
   "cell_type": "code",
   "execution_count": 7,
   "metadata": {},
   "outputs": [],
   "source": [
    "# RSA Dencryption : Using CRT if possible\n",
    "def decrypt_RSA(ci_text, key, n, CRT='no', p=None, q=None):\n",
    "    pl_text = ''\n",
    "    r = find_block_size(DISTINCT, n)\n",
    "    s = r+1\n",
    "    \n",
    "    for i in range(0, len(ci_text), s):\n",
    "        block = ci_text[i:i+s]\n",
    "        C = 0\n",
    "        for j, ch in enumerate(block[::-1]): # Reverse of encryption\n",
    "            if ch=='-':\n",
    "                C += (FIX)*(DISTINCT**j)\n",
    "            elif '0' <= ch <= '9':\n",
    "                C += (ord(ch) - ord('0') + FIX_NUM)*(DISTINCT**j)\n",
    "            else:\n",
    "                C += (ord(ch) - ord('a'))*(DISTINCT**j)\n",
    "        \n",
    "        \n",
    "        # ====================================\n",
    "        if CRT=='no':\n",
    "            M = pow(C, key, n)\n",
    "        else:\n",
    "            dP = key % (p-1)\n",
    "            dQ = key % (q-1)\n",
    "\n",
    "            g, ss, t = gmpy2.gcdext(q, p)\n",
    "            q_inv = int(ss) % p\n",
    "\n",
    "            x1 = pow(C, dP, p)\n",
    "            x2 = pow(C, dQ, q)\n",
    "            h = q_inv*(x1-x2) % p\n",
    "            M = (x2 + h*q)\n",
    "        # ====================================\n",
    "    \n",
    "        updated_block = ''\n",
    "        for j in range(r-1,-1,-1):\n",
    "            temp = M // (DISTINCT**j)\n",
    "            M -= temp*(DISTINCT**j)\n",
    "            \n",
    "            # for Numbers\n",
    "            if FIX_NUM <= temp <= FIX_NUM+9:\n",
    "                updated_block += chr(temp-FIX_NUM + ord('0'))\n",
    "            else:\n",
    "                if temp == FIX: temp = CHECK # for '-'\n",
    "                updated_block += chr(temp+ord('a'))\n",
    "            \n",
    "        pl_text += updated_block[::-1]\n",
    "    \n",
    "    return pl_text"
   ]
  },
  {
   "cell_type": "code",
   "execution_count": null,
   "metadata": {},
   "outputs": [],
   "source": []
  },
  {
   "cell_type": "code",
   "execution_count": 8,
   "metadata": {},
   "outputs": [
    {
     "data": {
      "text/plain": [
       "'gbqtxblqk5rxqkdi2d2aknvp-qsutj2knidp6pj5rcmdirpvu4ysovlb7j2wrax3lhrv0qigp4uwe7b4tok-4v-grdrmwi8wwjf1d24r034pfy94a6lj4pa0vqpxy6-lunq2wcu8sgrr0kw24736qme794-z-dmq6vqaop60y9h0oaguj1anp1yj-lmtgg4x-pp82hdzxb-r4813gumwafop5le2sbrv688o71xt8x4lpw01hjy8anmkuwh3bo2f6-wrwwqb3pop4v15e-w9cziqaqhbr6-e790zfcape71ub0w4p4gj6g7fpulkp9uy53wqyny1-cwrlk0p6y7aiiyvnngz89jg78ijybdpxclrvowi11ul0h9ukwalpcwsoiio7vlz9mdwxdndiqccuaz0i08kqqzfoylqnzoqa37rjqlartoqrx147wn7fnqd26rvaon7-udsu7j2mt4kymickhk6snmjwtxlv6v9xh1go58wqe2rhhbq69dy22wxooeqwl51szqgfttkseobwceqwqjqeh9c41wsstifkntut189xr5ka-mlg9qe4s1lezz3453njxksb6rmorfxkhva8iogqqn1kfcxztpk7-b9hduznpmiafeu3x54cjpqrm-4oohpjour1nc3sidlkroal43iyxjb6i-rlpdo-2uhrixnnmqeijtvmg2f45bxr5dzspiu7k-ssxfeemjulvf-6-o0--5-o3h5ws8gkdj7y-9qsc0yayhjuhb584iybybz02sjy63x52ki-7x0l1lowulzf8iiz9rdvt3yz5ooyue0rcnxh3m9f3himxbw-9-7j5da-4biydcqqz2r0kfqdr4kor6pf3vjabr99uehbu4xs3htncoun72qv0eesdtgvixq9n3d8ne0tp7zrrbs0yfx19hvqkykf-u3q7e6qtotx-p-r6dj3-3tkf2cbjgso9luamslsqlwarmubshtr'"
      ]
     },
     "execution_count": 8,
     "metadata": {},
     "output_type": "execute_result"
    }
   ],
   "source": [
    "# Self Details : e, d, p, q\n",
    "S_keys = open('private_' + str(S_ID) + '.txt', 'r').read() # Encrypted by CA\n",
    "S_keys"
   ]
  },
  {
   "cell_type": "code",
   "execution_count": 9,
   "metadata": {},
   "outputs": [
    {
     "data": {
      "text/plain": [
       "(81500537003248282447372678957598622637375471670002623435102335944650549145718167993126832732363193409594784892195565191744196681706612311752022636975842364669876971098073740694165178107968419300938307981237082323012865192052566462123442221800953212883568621139771666619493672509370686908367914166725767604809,\n",
       " 480463554232724092828465585279591064496111993593641642343777373333283580514525045643245435947071095553257018845607736949105128698641220056417419555389680045147058923322527697449012914887500324861680056054934993085328078107142619033627267957732031551889324582532531328809988756306261743167346072693219532120957)"
      ]
     },
     "execution_count": 9,
     "metadata": {},
     "output_type": "execute_result"
    }
   ],
   "source": [
    "S_e, S_d, S_p, S_q = map(int, map(remove_extra_a, decrypt_RSA(S_keys, CA_e, CA_n).split('-')))\n",
    "S_n = S_p * S_q\n",
    "S_e, S_n"
   ]
  },
  {
   "cell_type": "code",
   "execution_count": 10,
   "metadata": {},
   "outputs": [
    {
     "data": {
      "text/plain": [
       "(33184838627527307195292164418122878877531195366784288356082933114097018992711228691483108302612936701519148129135989406978290848764998498532474647241692881312990339059669327387212114156400220747001909430936408996588018429519506206371965187396869279498796340851221097563184573791247340175228689441270603021769,\n",
       " 435635182674968972412785261114024873861575457673935881063604189722922521548596820552399571085474585338013394615013930894165646483323090930068922773858367771504683901363162334819162336213312353344684326726204085675371868348067376313050073356807518482840515841492999005769027540362304681627138851541059510220901)"
      ]
     },
     "execution_count": 10,
     "metadata": {},
     "output_type": "execute_result"
    }
   ],
   "source": [
    "# Find Receiver's Details : e, n\n",
    "for row in open('public_dir.txt', 'r').read().split('\\n')[:-1]:\n",
    "    row_details = row.split(' ')\n",
    "    if int(row_details[0]) == R_ID:\n",
    "        R_keys = row_details[1]\n",
    "        R_e, R_n = map(int, list(map(remove_extra_a, decrypt_RSA(R_keys, CA_e, CA_n).split('-'))))\n",
    "R_e, R_n"
   ]
  },
  {
   "cell_type": "code",
   "execution_count": null,
   "metadata": {},
   "outputs": [],
   "source": []
  },
  {
   "cell_type": "code",
   "execution_count": 11,
   "metadata": {},
   "outputs": [],
   "source": [
    "# Filter message : Allow only english characters after converting entire string to lowercase\n",
    "def clean(msg):\n",
    "    msg = msg.lower()\n",
    "    clean_msg = ''\n",
    "    \n",
    "    for ch in msg:\n",
    "        if 'a' <= ch <= 'z':\n",
    "            clean_msg += ch\n",
    "    return clean_msg"
   ]
  },
  {
   "cell_type": "code",
   "execution_count": 12,
   "metadata": {},
   "outputs": [],
   "source": [
    "# Generate randome vignere key with desired property\n",
    "def generate_key_vignere(length=20, distinct=True):\n",
    "    \"\"\"\n",
    "        key length should be <= 26, else distinct not possible.\n",
    "    \"\"\"\n",
    "    if distinct and length<=26:\n",
    "        all_idx = [i for i in range(26)]\n",
    "        random.shuffle(all_idx)\n",
    "        return ''.join([chr(idx + ord('a')) for idx in all_idx[:length]])\n",
    "    else:\n",
    "        all_idx = [random.randint(0,25) for i in range(length)]\n",
    "        return ''.join([chr(idx + ord('a')) for idx in all_idx])"
   ]
  },
  {
   "cell_type": "code",
   "execution_count": 13,
   "metadata": {},
   "outputs": [],
   "source": [
    "# Vignere Encryption\n",
    "def encrypt_vignere(pl_text, key):\n",
    "    \"\"\"\n",
    "        Takes plain_text(Lowercase Letters) and key as argument and returns encrypted cipher_text.\n",
    "    \"\"\"\n",
    "    ci_text = ''\n",
    "    key_len = len(key)\n",
    "    for i in range(len(pl_text)):\n",
    "        ci_char = ( ord(pl_text[i]) - ord('a') + ord(key[i%key_len]) - ord('a') )%26\n",
    "        ci_text += chr( ci_char + ord('a') )\n",
    "    \n",
    "    return ci_text"
   ]
  },
  {
   "cell_type": "code",
   "execution_count": 14,
   "metadata": {},
   "outputs": [
    {
     "data": {
      "text/plain": [
       "('hellothisisabeautifuldaythishasbeenacrazyridethedeardepartedandhereweareinthreatofcoronaviruswillyoubenumber',\n",
       " 'zsetcnbgwoxjdhlafvku')"
      ]
     },
     "execution_count": 14,
     "metadata": {},
     "output_type": "execute_result"
    }
   ],
   "source": [
    "# Generate Key -> Clean Msg -> Encrypt Msg -> Prepend the Vig_Key to Enc_Msg\n",
    "key_vig = generate_key_vignere()\n",
    "\n",
    "msg = 'hellothis is a beautiful day! This has been a crazy ride. The dear departed. And here we are in threat of coronavirus. Will you be number 1?'\n",
    "msg = clean(msg)\n",
    "msg, key_vig"
   ]
  },
  {
   "cell_type": "code",
   "execution_count": null,
   "metadata": {},
   "outputs": [],
   "source": []
  },
  {
   "cell_type": "code",
   "execution_count": 15,
   "metadata": {},
   "outputs": [
    {
     "data": {
      "text/plain": [
       "'zsetcnbgwoxjdhlafvku-gwpeqgioowpjelluydpokvervujydopkhlyahmktxjmwggikzsxaglaawooxzfhagefcaoonluehwzknnxghtbogrwodvdtlqtyoawrnoofx'"
      ]
     },
     "execution_count": 15,
     "metadata": {},
     "output_type": "execute_result"
    }
   ],
   "source": [
    "ci_text_vig = encrypt_vignere(msg, key_vig)\n",
    "\n",
    "msg_for_RSA = key_vig + '-' + ci_text_vig\n",
    "msg_for_RSA"
   ]
  },
  {
   "cell_type": "code",
   "execution_count": 16,
   "metadata": {},
   "outputs": [
    {
     "data": {
      "text/plain": [
       "'qpcphbxwrfhmbo22hr2fxd6f2wb1ny8y8q9-z57aqbo33mm0cjph5a3ekg927e113--b9fh9oye6w2zb4i0xq-3px87fkrnm68b0wd4gwmz7fjryi0lyi18m6i91h18kl-lzix7gwhiwtbna4i44xo26g6vtejwer9sk86wsc5mnjoucmje2ip3jx4yd537zsmkjk'"
      ]
     },
     "execution_count": 16,
     "metadata": {},
     "output_type": "execute_result"
    }
   ],
   "source": [
    "# Sign the (Vig_key-Msg) by self Private Key   (CRT)\n",
    "digitally_signed = encrypt_RSA(msg_for_RSA, S_d, S_n, 'yes', S_p, S_q)\n",
    "digitally_signed"
   ]
  },
  {
   "cell_type": "code",
   "execution_count": 17,
   "metadata": {},
   "outputs": [
    {
     "data": {
      "text/plain": [
       "'n5csnz8wamfxbw-7-gujtd3w55yluigb7lkzaqlapjkn409lk5vleq7uve4bexc3p1qkkrep774e3u5b3-5v8l2hgg3zglauf6waf7us67z3yaimf-apcp8dhn-38vjjegnza8dxd-xpyorxdd9expsqvxb3fwfc0id6jd9f3ex5sznni8uyvp0p-1insl4mdrizdeiu1b3kj7m53bcp9orsn8d-inya-y-zbeiz8nf-r-isnk8j3w8ob-g1iie86but2-ojlgx1qtz7qb94ha74-ilbicgj2entl3d1in1r1iw2754w910wwfsrpygh-zwh9dzzqbl1eu5srsywlwzuloxvuepxpjul77095e1ge1ebxatixv4wc84447z3yc-fp2s1tm'"
      ]
     },
     "execution_count": 17,
     "metadata": {},
     "output_type": "execute_result"
    }
   ],
   "source": [
    "# RSA using receiver's Public Key\n",
    "final_to_send = encrypt_RSA(digitally_signed, R_e, R_n)\n",
    "final_to_send"
   ]
  },
  {
   "cell_type": "code",
   "execution_count": 18,
   "metadata": {},
   "outputs": [
    {
     "data": {
      "text/plain": [
       "394"
      ]
     },
     "execution_count": 18,
     "metadata": {},
     "output_type": "execute_result"
    }
   ],
   "source": [
    "# Store final message in file which needs to be transferred over unsafe network\n",
    "open('send_over_unsafe_network.txt','w+').write(final_to_send)"
   ]
  },
  {
   "cell_type": "code",
   "execution_count": null,
   "metadata": {},
   "outputs": [],
   "source": []
  }
 ],
 "metadata": {
  "kernelspec": {
   "display_name": "Python 3",
   "language": "python",
   "name": "python3"
  },
  "language_info": {
   "codemirror_mode": {
    "name": "ipython",
    "version": 3
   },
   "file_extension": ".py",
   "mimetype": "text/x-python",
   "name": "python",
   "nbconvert_exporter": "python",
   "pygments_lexer": "ipython3",
   "version": "3.6.9"
  }
 },
 "nbformat": 4,
 "nbformat_minor": 2
}
