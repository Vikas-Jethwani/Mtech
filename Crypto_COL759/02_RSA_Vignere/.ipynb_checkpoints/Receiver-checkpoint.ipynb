{
 "cells": [
  {
   "cell_type": "code",
   "execution_count": 32,
   "metadata": {},
   "outputs": [],
   "source": [
    "import math # for log\n",
    "import random # for vignere key generation"
   ]
  },
  {
   "cell_type": "code",
   "execution_count": 33,
   "metadata": {},
   "outputs": [],
   "source": [
    "DISTINCT = 37\n",
    "S_ID = 2\n",
    "R_ID = 1\n",
    "CHECK = ord('-')-ord('a') # for '-'\n",
    "FIX = 26 # for '-'\n",
    "FIX_NUM = 27 # for number '0' and so on..."
   ]
  },
  {
   "cell_type": "code",
   "execution_count": 34,
   "metadata": {},
   "outputs": [
    {
     "data": {
      "text/plain": [
       "'ayr2134xbl4quunod7mpg2tzpmglrirmh7ors0yr97gesl59au3b8o27wecrkgqyelci94amtvhhyj2i055ud3arzivz3489065d7oky4l-w3s0erbkicowedn4et0ghyzx2nty5hz-2g-v31n70vy7iktebyf1iceutrjbo2sa349pp2l2gxtr-12lu-j259cppw-'"
      ]
     },
     "execution_count": 34,
     "metadata": {},
     "output_type": "execute_result"
    }
   ],
   "source": [
    "RCVD_MSG = open('send_over_unsafe_network.txt', 'r').read()\n",
    "RCVD_MSG"
   ]
  },
  {
   "cell_type": "code",
   "execution_count": 35,
   "metadata": {},
   "outputs": [
    {
     "data": {
      "text/plain": [
       "(17498177282775871407924995336104865047147532910862794705535452389877241061193214073037109490279806914655891159944651662572138806742720798764186848651761153,\n",
       " 18914448963066764731078223413867589851609964931053620855523125116749548894992365801042207262589880505269660866637387380295479872413648174678752745894709869)"
      ]
     },
     "execution_count": 35,
     "metadata": {},
     "output_type": "execute_result"
    }
   ],
   "source": [
    "CA_e, CA_n = map(int, open('public_CA.txt', 'r').read().split())\n",
    "CA_e, CA_n"
   ]
  },
  {
   "cell_type": "code",
   "execution_count": 36,
   "metadata": {},
   "outputs": [
    {
     "data": {
      "text/plain": [
       "'cn915cnn8q12xcv5kcqxpxh-q9vois79pdyce2zwwulg-a759x6jzgf6iei8ghf8yzzp1weswi4zvhi5swbnle-vke7j-tyovddbablcm-5delvd3ecgwnznbm3sby8f12wr-z2kag418l93mkcptm7s2or2yq5eabh4z606314o8embsjrh4cvv6krs-k3tntp7bxb6-d2vqictdfy8tlitqx9gpu1d3ut8twihdexnqz5pxvqdu3nnmg7mq-6mo449kxioil3erkelx8jzhsq4tiskf1yzevdq0g-jud6kiprqhvb9i81d7dl4qom4g4e8wbwaen6m60l0vkm9dxj1kap59162uh6zvlx18nj12h83pir1o6-5n8zi2poejdjbulite2naczoy-dtvw3mjcc17p73vqs60xzpv3o5tlde8vtimye1jdgzaq3qxctvduypo515amtgpac45epw1s8xlw8fee1l-j8s4pd4uhfg'"
      ]
     },
     "execution_count": 36,
     "metadata": {},
     "output_type": "execute_result"
    }
   ],
   "source": [
    "S_keys = open('private_' + str(S_ID) + '.txt', 'r').read() # Encrypted by CA\n",
    "S_keys"
   ]
  },
  {
   "cell_type": "code",
   "execution_count": null,
   "metadata": {},
   "outputs": [],
   "source": []
  },
  {
   "cell_type": "code",
   "execution_count": 37,
   "metadata": {},
   "outputs": [],
   "source": [
    "def find_block_size(num_diff_chars, n):\n",
    "    block_size = int(math.log(n, num_diff_chars))\n",
    "\n",
    "    if num_diff_chars**block_size == n:\n",
    "        return block_size-1\n",
    "    else:\n",
    "        return block_size"
   ]
  },
  {
   "cell_type": "code",
   "execution_count": 38,
   "metadata": {},
   "outputs": [],
   "source": [
    "def decrypt_RSA(ci_text, key, n):\n",
    "    pl_text = ''\n",
    "    r = find_block_size(DISTINCT, n)\n",
    "    s = r+1\n",
    "    \n",
    "    for i in range(0, len(ci_text), s):\n",
    "        block = ci_text[i:i+s]\n",
    "        C = 0\n",
    "        for j, ch in enumerate(block[::-1]): # Reverse of encryption\n",
    "            if ch=='-':\n",
    "                C += (FIX)*(DISTINCT**j)\n",
    "            elif '0' <= ch <= '9':\n",
    "                C += (ord(ch) - ord('0') + FIX_NUM)*(DISTINCT**j)\n",
    "            else:\n",
    "                C += (ord(ch) - ord('a'))*(DISTINCT**j)\n",
    "        M = pow(C, key, n)\n",
    "    \n",
    "        updated_block = ''\n",
    "        for j in range(r-1,-1,-1):\n",
    "            temp = M // (DISTINCT**j)\n",
    "            M -= temp*(DISTINCT**j)\n",
    "            \n",
    "            # for Numbers\n",
    "            if FIX_NUM <= temp <= FIX_NUM+9:\n",
    "                updated_block += chr(temp-FIX_NUM + ord('0'))\n",
    "            else:\n",
    "                if temp == FIX: temp = CHECK # for '-'\n",
    "                updated_block += chr(temp+ord('a'))\n",
    "            \n",
    "        pl_text += updated_block[::-1]\n",
    "    \n",
    "    return pl_text"
   ]
  },
  {
   "cell_type": "code",
   "execution_count": 39,
   "metadata": {},
   "outputs": [],
   "source": [
    "def remove_extra_a(with_a):\n",
    "    return with_a.rstrip('a')"
   ]
  },
  {
   "cell_type": "code",
   "execution_count": 40,
   "metadata": {},
   "outputs": [
    {
     "data": {
      "text/plain": [
       "(18673377149495571239761168825306369573088289223486129825999649966932155193861141947859237757958402469353413176573481951097236886072316197512133244760473073,\n",
       " 148942289772212431070060512491952140711860488265249872514787761059354604108161)"
      ]
     },
     "execution_count": 40,
     "metadata": {},
     "output_type": "execute_result"
    }
   ],
   "source": [
    "S_e, S_d, S_p, S_q = map(int, list(map(remove_extra_a, decrypt_RSA(S_keys, CA_e, CA_n).split('-'))))\n",
    "S_n = S_p * S_q\n",
    "S_e, S_p"
   ]
  },
  {
   "cell_type": "code",
   "execution_count": 41,
   "metadata": {},
   "outputs": [
    {
     "data": {
      "text/plain": [
       "(21105570766843659328511593158656167168148006995416558605623474933672397766396078713615849211036268177245175640742365642309258709599039785367620791025387531,\n",
       " 24544151009964545158982814316391649007352047690434335241522430839611657798601334528424220606833407501510652994016951536567312845740123722873490739879818543)"
      ]
     },
     "execution_count": 41,
     "metadata": {},
     "output_type": "execute_result"
    }
   ],
   "source": [
    "for row in open('public_dir.txt', 'r').read().split('\\n')[:-1]:\n",
    "    row_details = list(map(int, row.split(' ')))\n",
    "    if row_details[0] == R_ID:\n",
    "        R_e, R_n = row_details[1], row_details[2]\n",
    "R_e, R_n"
   ]
  },
  {
   "cell_type": "code",
   "execution_count": null,
   "metadata": {},
   "outputs": [],
   "source": []
  },
  {
   "cell_type": "code",
   "execution_count": 43,
   "metadata": {},
   "outputs": [
    {
     "data": {
      "text/plain": [
       "'c1mmtzf3-ug9tl66gb378ow03yt67icp2wd5b934im18hwky5nb3d7-4twmdj2nhn-vh6532vdtq8b3kezrzt6gol8053qezi29'"
      ]
     },
     "execution_count": 43,
     "metadata": {},
     "output_type": "execute_result"
    }
   ],
   "source": [
    "decrypt1_msg = decrypt_RSA(RCVD_MSG, S_d, S_n).rstrip('a')\n",
    "decrypt1_msg"
   ]
  },
  {
   "cell_type": "code",
   "execution_count": 46,
   "metadata": {},
   "outputs": [
    {
     "data": {
      "text/plain": [
       "('hexsdoyuzwpqjkfmtvcl', 'oiidrhfcrehqkofgmdhfshxq')"
      ]
     },
     "execution_count": 46,
     "metadata": {},
     "output_type": "execute_result"
    }
   ],
   "source": [
    "key_vig, encrypt_vig = map(remove_extra_a, decrypt_RSA(decrypt1_msg, R_e, R_n).split('-'))\n",
    "key_vig, encrypt_vig"
   ]
  },
  {
   "cell_type": "code",
   "execution_count": 47,
   "metadata": {},
   "outputs": [],
   "source": [
    "def decrypt_vignere(ci_text, key):\n",
    "    \"\"\"\n",
    "        Takes cipher_text(Lowercase Letters) and key as argument and returns decrypted plain_text.\n",
    "    \"\"\"\n",
    "    pl_text = ''\n",
    "    key_len = len(key)\n",
    "    for i in range(len(ci_text)):\n",
    "        pl_char = ( ord(ci_text[i]) - ord('a') - ord(key[i%key_len]) + ord('a') )%26\n",
    "        pl_text += chr( pl_char + ord('a') )\n",
    "    \n",
    "    return pl_text"
   ]
  },
  {
   "cell_type": "code",
   "execution_count": 48,
   "metadata": {},
   "outputs": [
    {
     "data": {
      "text/plain": [
       "'hellothisisabeautifulday'"
      ]
     },
     "execution_count": 48,
     "metadata": {},
     "output_type": "execute_result"
    }
   ],
   "source": [
    "decrypt_vignere(encrypt_vig, key_vig)"
   ]
  },
  {
   "cell_type": "code",
   "execution_count": null,
   "metadata": {},
   "outputs": [],
   "source": []
  }
 ],
 "metadata": {
  "kernelspec": {
   "display_name": "Python 3",
   "language": "python",
   "name": "python3"
  },
  "language_info": {
   "codemirror_mode": {
    "name": "ipython",
    "version": 3
   },
   "file_extension": ".py",
   "mimetype": "text/x-python",
   "name": "python",
   "nbconvert_exporter": "python",
   "pygments_lexer": "ipython3",
   "version": "3.6.9"
  }
 },
 "nbformat": 4,
 "nbformat_minor": 2
}
