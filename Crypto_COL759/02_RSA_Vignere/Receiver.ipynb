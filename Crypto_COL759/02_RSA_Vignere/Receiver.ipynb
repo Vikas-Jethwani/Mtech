{
 "cells": [
  {
   "cell_type": "code",
   "execution_count": 1,
   "metadata": {},
   "outputs": [],
   "source": [
    "import math # for log\n",
    "import gmpy2 # for mod_inverse"
   ]
  },
  {
   "cell_type": "code",
   "execution_count": 2,
   "metadata": {},
   "outputs": [],
   "source": [
    "# Global Constants\n",
    "DISTINCT = 37\n",
    "S_ID = 2 # Self Id\n",
    "R_ID = 1 # Retrieval sender Id\n",
    "CHECK = ord('-')-ord('a') # for '-'\n",
    "FIX = 26 # for '-'\n",
    "FIX_NUM = 27 # for number '0' and so on..."
   ]
  },
  {
   "cell_type": "code",
   "execution_count": 3,
   "metadata": {},
   "outputs": [],
   "source": [
    "# Load final message from file which has been transferred over unsafe network\n",
    "RCVD_MSG = open('send_over_unsafe_network.txt', 'r').read()"
   ]
  },
  {
   "cell_type": "code",
   "execution_count": 4,
   "metadata": {},
   "outputs": [],
   "source": [
    "# CA Details\n",
    "CA_e, CA_n = map(int, open('public_CA.txt', 'r').read().split())"
   ]
  },
  {
   "cell_type": "code",
   "execution_count": null,
   "metadata": {},
   "outputs": [],
   "source": []
  },
  {
   "cell_type": "code",
   "execution_count": 5,
   "metadata": {},
   "outputs": [],
   "source": [
    "# Find dynamic block size by formula mentioned in class\n",
    "def find_block_size(num_diff_chars, n):\n",
    "    block_size = int(math.log(n, num_diff_chars))\n",
    "\n",
    "    if num_diff_chars**block_size >= n:\n",
    "        return block_size-1\n",
    "    else:\n",
    "        return block_size"
   ]
  },
  {
   "cell_type": "code",
   "execution_count": 6,
   "metadata": {},
   "outputs": [],
   "source": [
    "# RSA Dencryption : Using CRT if possible\n",
    "def decrypt_RSA(ci_text, key, n, CRT='no', p=None, q=None):\n",
    "    pl_text = ''\n",
    "    r = find_block_size(DISTINCT, n)\n",
    "    s = r+1\n",
    "    \n",
    "    for i in range(0, len(ci_text), s):\n",
    "        block = ci_text[i:i+s]\n",
    "        C = 0\n",
    "        for j, ch in enumerate(block[::-1]): # Reverse of encryption\n",
    "            if ch=='-':\n",
    "                C += (FIX)*(DISTINCT**j)\n",
    "            elif '0' <= ch <= '9':\n",
    "                C += (ord(ch) - ord('0') + FIX_NUM)*(DISTINCT**j)\n",
    "            else:\n",
    "                C += (ord(ch) - ord('a'))*(DISTINCT**j)\n",
    "        \n",
    "        \n",
    "        # ====================================\n",
    "        if CRT=='no':\n",
    "            M = pow(C, key, n)\n",
    "        else:\n",
    "            dP = key % (p-1)\n",
    "            dQ = key % (q-1)\n",
    "\n",
    "            g, ss, t = gmpy2.gcdext(q, p)\n",
    "            q_inv = int(ss) % p\n",
    "\n",
    "            x1 = pow(C, dP, p)\n",
    "            x2 = pow(C, dQ, q)\n",
    "            h = q_inv*(x1-x2) % p\n",
    "            M = (x2 + h*q)\n",
    "        # ====================================\n",
    "    \n",
    "        updated_block = ''\n",
    "        for j in range(r-1,-1,-1):\n",
    "            temp = M // (DISTINCT**j)\n",
    "            M -= temp*(DISTINCT**j)\n",
    "            \n",
    "            # for Numbers\n",
    "            if FIX_NUM <= temp <= FIX_NUM+9:\n",
    "                updated_block += chr(temp-FIX_NUM + ord('0'))\n",
    "            else:\n",
    "                if temp == FIX: temp = CHECK # for '-'\n",
    "                updated_block += chr(temp+ord('a'))\n",
    "            \n",
    "        pl_text += updated_block[::-1]\n",
    "    \n",
    "    return pl_text"
   ]
  },
  {
   "cell_type": "code",
   "execution_count": null,
   "metadata": {},
   "outputs": [],
   "source": []
  },
  {
   "cell_type": "code",
   "execution_count": 7,
   "metadata": {},
   "outputs": [],
   "source": [
    "# To remove ('a'=0) appended while decrypting RSA\n",
    "def remove_extra_a(with_a):\n",
    "    return with_a.rstrip('a')"
   ]
  },
  {
   "cell_type": "code",
   "execution_count": 8,
   "metadata": {},
   "outputs": [
    {
     "data": {
      "text/plain": [
       "'gaee-hv07b-qsy0z-matw5co0tx-s7v-00-2trt43j6fb7fomxxzz85qx98igh4056ye7qy90crfw9neb80vjec7w6kcahoyg02cfxoq603ogdfqx1-e73639t8anakd9xrcw0u7-4-im-mn03kkc2pq7l7l18jemgyiy413bwclcb48t4aw69cgzqvc-l1x95wvqnibf32kt3n6qfsf7bzd2u1uf4ybwyvlgoes7plnujz45-8y-r5uo41l8dmvymah1zf161hh596b4z4-2i1yojtji4kqaa-3gbvnxayi5uhvbb68qd-53gt1txwubk8n5qtzuuvejk1q1x-n0af7tv2y2y-crwanfnfazl49-z33z9uigaqrvrbavih44t-tzc8bpkqib9e65g786ubsqj3gaiydbdlbt6zngkt9l2l1wl-by0rzayoegabpl7c9n4wuqeum9h5f0i9qqjngyvnimxh454hc0uh6rivsh879yyrm3q6xksfz9la6iz87303gvt2egu04r0cl5vhc9tzt8cy1apfq3ddyvyxovf8bgw81tkgvbvrz-qd9lda6dj3nzhbsddgh8h0gzv-b4-ugp07q1y3k6n6krgimbmk6czf820nqw65lh19wp4a5f5ghz7tr-snx12ux993itrm3sdcgm-jebjmi-po4qifxm9t7nvded-f8ql3suqzg51qo3ksk9t8nla6ofzg561v1qmd2rcc2bwvm4-ac4jg7d38ozhofdtzs2gcxkdnpzzbzl-hezsutceipdxxh92t4xft3bx73bmfsijj2oscvjrgjk3mu-wno0-eegge3k670rrhiqzramsvfeohc80kwz3rvd7-1terkjvbw7-9ur7voiiy96mzs0lfp45xwhhq60h0bn6pb7ev96xuhjvegfp1fd5lljl608nti4hyl48jdaov0ok-5urg61kt3o11dgkbbs8ji7qiyso4pq'"
      ]
     },
     "execution_count": 8,
     "metadata": {},
     "output_type": "execute_result"
    }
   ],
   "source": [
    "# Self Details : e, d, p, q\n",
    "S_keys = open('private_' + str(S_ID) + '.txt', 'r').read() # Encrypted by CA\n",
    "S_keys"
   ]
  },
  {
   "cell_type": "code",
   "execution_count": 9,
   "metadata": {},
   "outputs": [
    {
     "data": {
      "text/plain": [
       "(33184838627527307195292164418122878877531195366784288356082933114097018992711228691483108302612936701519148129135989406978290848764998498532474647241692881312990339059669327387212114156400220747001909430936408996588018429519506206371965187396869279498796340851221097563184573791247340175228689441270603021769,\n",
       " 16462028188369466240563303199086254917953432076523855802512125871682339058517056369717127400141615951240677491201965905200255260525407550533075764055908687)"
      ]
     },
     "execution_count": 9,
     "metadata": {},
     "output_type": "execute_result"
    }
   ],
   "source": [
    "S_e, S_d, S_p, S_q = map(int, list(map(remove_extra_a, decrypt_RSA(S_keys, CA_e, CA_n).split('-'))))\n",
    "S_n = S_p * S_q\n",
    "S_e, S_p"
   ]
  },
  {
   "cell_type": "code",
   "execution_count": 10,
   "metadata": {},
   "outputs": [
    {
     "data": {
      "text/plain": [
       "(81500537003248282447372678957598622637375471670002623435102335944650549145718167993126832732363193409594784892195565191744196681706612311752022636975842364669876971098073740694165178107968419300938307981237082323012865192052566462123442221800953212883568621139771666619493672509370686908367914166725767604809,\n",
       " 480463554232724092828465585279591064496111993593641642343777373333283580514525045643245435947071095553257018845607736949105128698641220056417419555389680045147058923322527697449012914887500324861680056054934993085328078107142619033627267957732031551889324582532531328809988756306261743167346072693219532120957)"
      ]
     },
     "execution_count": 10,
     "metadata": {},
     "output_type": "execute_result"
    }
   ],
   "source": [
    "# Find Receiver's Details : e, n\n",
    "for row in open('public_dir.txt', 'r').read().split('\\n')[:-1]:\n",
    "    row_details = row.split(' ')\n",
    "    if int(row_details[0]) == R_ID:\n",
    "        R_keys = row_details[1]\n",
    "        R_e, R_n = map(int, list(map(remove_extra_a, decrypt_RSA(R_keys, CA_e, CA_n).split('-'))))\n",
    "R_e, R_n"
   ]
  },
  {
   "cell_type": "code",
   "execution_count": null,
   "metadata": {},
   "outputs": [],
   "source": []
  },
  {
   "cell_type": "code",
   "execution_count": 11,
   "metadata": {},
   "outputs": [
    {
     "data": {
      "text/plain": [
       "'qpcphbxwrfhmbo22hr2fxd6f2wb1ny8y8q9-z57aqbo33mm0cjph5a3ekg927e113--b9fh9oye6w2zb4i0xq-3px87fkrnm68b0wd4gwmz7fjryi0lyi18m6i91h18kl-lzix7gwhiwtbna4i44xo26g6vtejwer9sk86wsc5mnjoucmje2ip3jx4yd537zsmkjk'"
      ]
     },
     "execution_count": 11,
     "metadata": {},
     "output_type": "execute_result"
    }
   ],
   "source": [
    "# Remove RSA encryption of by self Private key    (CRT)\n",
    "decrypt1_msg = decrypt_RSA(RCVD_MSG, S_d, S_n, 'yes', S_p, S_q).rstrip('a')\n",
    "decrypt1_msg"
   ]
  },
  {
   "cell_type": "code",
   "execution_count": 12,
   "metadata": {},
   "outputs": [
    {
     "data": {
      "text/plain": [
       "('zsetcnbgwoxjdhlafvku',\n",
       " 'gwpeqgioowpjelluydpokvervujydopkhlyahmktxjmwggikzsxaglaawooxzfhagefcaoonluehwzknnxghtbogrwodvdtlqtyoawrnoofx')"
      ]
     },
     "execution_count": 12,
     "metadata": {},
     "output_type": "execute_result"
    }
   ],
   "source": [
    "# Vig_key and Enc_Msg separated by '-'\n",
    "key_vig, encrypt_vig = map(remove_extra_a, decrypt_RSA(decrypt1_msg, R_e, R_n).split('-'))\n",
    "key_vig, encrypt_vig"
   ]
  },
  {
   "cell_type": "code",
   "execution_count": 13,
   "metadata": {},
   "outputs": [],
   "source": [
    "# Decrypt to get the original Msg by using Vig_key\n",
    "def decrypt_vignere(ci_text, key):\n",
    "    \"\"\"\n",
    "        Takes cipher_text(Lowercase Letters) and key as argument and returns decrypted plain_text.\n",
    "    \"\"\"\n",
    "    pl_text = ''\n",
    "    key_len = len(key)\n",
    "    for i in range(len(ci_text)):\n",
    "        pl_char = ( ord(ci_text[i]) - ord('a') - ord(key[i%key_len]) + ord('a') )%26\n",
    "        pl_text += chr( pl_char + ord('a') )\n",
    "    \n",
    "    return pl_text"
   ]
  },
  {
   "cell_type": "code",
   "execution_count": 14,
   "metadata": {},
   "outputs": [
    {
     "data": {
      "text/plain": [
       "'hellothisisabeautifuldaythishasbeenacrazyridethedeardepartedandhereweareinthreatofcoronaviruswillyoubenumber'"
      ]
     },
     "execution_count": 14,
     "metadata": {},
     "output_type": "execute_result"
    }
   ],
   "source": [
    "decrypt_vignere(encrypt_vig, key_vig)"
   ]
  },
  {
   "cell_type": "code",
   "execution_count": null,
   "metadata": {},
   "outputs": [],
   "source": []
  },
  {
   "cell_type": "code",
   "execution_count": null,
   "metadata": {},
   "outputs": [],
   "source": [
    "# Fails at (3^5 mod 21)^e mod 15 = 0.. So can't recover back the message.\n",
    "#          (M^S_d mod S_n)^R_e mod R_n "
   ]
  }
 ],
 "metadata": {
  "kernelspec": {
   "display_name": "Python 3",
   "language": "python",
   "name": "python3"
  },
  "language_info": {
   "codemirror_mode": {
    "name": "ipython",
    "version": 3
   },
   "file_extension": ".py",
   "mimetype": "text/x-python",
   "name": "python",
   "nbconvert_exporter": "python",
   "pygments_lexer": "ipython3",
   "version": "3.6.9"
  }
 },
 "nbformat": 4,
 "nbformat_minor": 2
}
