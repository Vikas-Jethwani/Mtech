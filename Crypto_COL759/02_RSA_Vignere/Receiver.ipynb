{
 "cells": [
  {
   "cell_type": "code",
   "execution_count": 5,
   "metadata": {},
   "outputs": [],
   "source": [
    "pl_from_RSA = 'hncypvdrwobqgsiajtfk-ornjdokzowtqhwiucbkesqcw'"
   ]
  },
  {
   "cell_type": "code",
   "execution_count": 6,
   "metadata": {},
   "outputs": [],
   "source": [
    "def decrypt_vignere(ci_text, key):\n",
    "    \"\"\"\n",
    "        Takes cipher_text(Lowercase Letters) and key as argument and returns decrypted plain_text.\n",
    "    \"\"\"\n",
    "    pl_text = ''\n",
    "    key_len = len(key)\n",
    "    for i in range(len(ci_text)):\n",
    "        pl_char = ( ord(ci_text[i]) - ord('a') - ord(key[i%key_len]) + ord('a') )%26\n",
    "        pl_text += chr( pl_char + ord('a') )\n",
    "    \n",
    "    return pl_text"
   ]
  },
  {
   "cell_type": "code",
   "execution_count": null,
   "metadata": {},
   "outputs": [],
   "source": []
  },
  {
   "cell_type": "code",
   "execution_count": null,
   "metadata": {},
   "outputs": [],
   "source": [
    "def decrypt_RSA(ci_text, key, n):\n",
    "    pl_text = ''\n",
    "    r = find_block_size(DISTINCT, n)\n",
    "    s = r+1\n",
    "    \n",
    "    for i in range(0, len(ci_text), s):\n",
    "        block = ci_text[i:i+s]\n",
    "        C = 0\n",
    "        for j, ch in enumerate(block[::-1]): # Reverse of encryption\n",
    "            if ch=='-':\n",
    "                C += (FIX)*(DISTINCT**j)\n",
    "            else:\n",
    "                C += (ord(ch) - ord('a'))*(DISTINCT**j)\n",
    "#         C = M**key % n\n",
    "        M = mod_pow(C, key, n)\n",
    "    \n",
    "        updated_block = ''\n",
    "        for j in range(r-1,-1,-1):\n",
    "            temp = M // (DISTINCT**j)\n",
    "            M -= temp*(DISTINCT**j)\n",
    "            if temp == 26: temp = CHECK # for '-'\n",
    "            \n",
    "            updated_block += chr(temp+ord('a'))\n",
    "        pl_text += updated_block[::-1]\n",
    "    \n",
    "    return pl_text"
   ]
  },
  {
   "cell_type": "code",
   "execution_count": 9,
   "metadata": {},
   "outputs": [
    {
     "data": {
      "text/plain": [
       "'hellothisisabeautifulday'"
      ]
     },
     "execution_count": 9,
     "metadata": {},
     "output_type": "execute_result"
    }
   ],
   "source": [
    "key_vig, ci_text = pl_from_RSA.split('-')\n",
    "pl_from_vig = decrypt_vignere(ci_text, key_vig)\n",
    "pl_from_vig"
   ]
  },
  {
   "cell_type": "code",
   "execution_count": null,
   "metadata": {},
   "outputs": [],
   "source": []
  }
 ],
 "metadata": {
  "kernelspec": {
   "display_name": "Python 3",
   "language": "python",
   "name": "python3"
  },
  "language_info": {
   "codemirror_mode": {
    "name": "ipython",
    "version": 3
   },
   "file_extension": ".py",
   "mimetype": "text/x-python",
   "name": "python",
   "nbconvert_exporter": "python",
   "pygments_lexer": "ipython3",
   "version": "3.7.6"
  }
 },
 "nbformat": 4,
 "nbformat_minor": 2
}
