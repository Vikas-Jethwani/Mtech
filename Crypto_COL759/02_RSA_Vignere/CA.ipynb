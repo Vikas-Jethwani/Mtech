{
 "cells": [
  {
   "cell_type": "code",
   "execution_count": 1,
   "metadata": {},
   "outputs": [],
   "source": [
    "from time import time\n",
    "import math\n",
    "import gmpy2"
   ]
  },
  {
   "cell_type": "code",
   "execution_count": 8,
   "metadata": {},
   "outputs": [],
   "source": [
    "# Copied from GFG : https://www.geeksforgeeks.org/multiplicative-inverse-under-modulo-m/\n",
    "def mod_inverse(a, m):\n",
    "    a = a%m\n",
    "    if m == 1: return 0;\n",
    "\n",
    "    m0 = m\n",
    "    x, y = 1, 0\n",
    "\n",
    "    while a > 1 :\n",
    "        q = a // m\n",
    "        t = m\n",
    "\n",
    "        m = a%m # Euclid's Algo\n",
    "        a = t\n",
    "        t = y\n",
    "\n",
    "        y = x - q*y\n",
    "        x = t\n",
    "\n",
    "    if x < 0: x += m0\n",
    "\n",
    "    return x"
   ]
  },
  {
   "cell_type": "code",
   "execution_count": 9,
   "metadata": {},
   "outputs": [
    {
     "data": {
      "text/plain": [
       "18667"
      ]
     },
     "execution_count": 9,
     "metadata": {},
     "output_type": "execute_result"
    }
   ],
   "source": [
    "mod_inverse(3, 28000)"
   ]
  },
  {
   "cell_type": "code",
   "execution_count": 2,
   "metadata": {},
   "outputs": [],
   "source": [
    "def generate_strong_prime(length=512):\n",
    "    return 5915587277\n",
    "    p = (999999999999999980835596172437374590573120014030318793091164810154100112203678582976298268616221151962702060266176005440567032331208403948233373515999)\n",
    "    return int(gmpy2.next_prime(p+1))"
   ]
  },
  {
   "cell_type": "code",
   "execution_count": 3,
   "metadata": {},
   "outputs": [],
   "source": [
    "def generate_keys_CA(N=2):\n",
    "    \"\"\"\n",
    "        N = No. of people in group for whom public and private keys have to be generated.\n",
    "        \n",
    "        Outputs 1 file with everyone's public key.\n",
    "        and N files with their respective private key.\n",
    "    \"\"\"\n",
    "    # Remove all old keys\n",
    "    open('public_dir.txt', 'w+').close()\n",
    "\n",
    "    for i in range(1,N+1):\n",
    "        p = generate_strong_prime()\n",
    "        q = generate_strong_prime()\n",
    "        n = p*q\n",
    "        phi_n = (p-1)*(q-1)\n",
    "        \n",
    "        e = 65537 # change\n",
    "        g, s, t = gmpy2.gcdext(e, phi_n)\n",
    "        if g != 1:\n",
    "            print(\"Damn\")\n",
    "            return None\n",
    "        d = s%phi_n\n",
    "        \n",
    "        public_key = str(i) + ' ' + str(e) + ' ' + str(n) + '\\n'\n",
    "        private_details = str(e) + ' ' + str(d) + ' ' + str(p) + ' ' + str(q) + '\\n'\n",
    "        \n",
    "        public_dir = open('public_dir.txt', 'a+')\n",
    "        public_dir.write(public_key)\n",
    "        public_dir.close()\n",
    "        \n",
    "        private_dir = open('private_' + str(i) + '.txt', 'w+')\n",
    "        private_dir.write(private_details)\n",
    "        private_dir.close()"
   ]
  },
  {
   "cell_type": "code",
   "execution_count": 4,
   "metadata": {},
   "outputs": [],
   "source": [
    "generate_keys_CA(3)"
   ]
  },
  {
   "cell_type": "code",
   "execution_count": 5,
   "metadata": {},
   "outputs": [
    {
     "name": "stdout",
     "output_type": "stream",
     "text": [
      "1 65537 34994172831804274729\r\n",
      "2 65537 34994172831804274729\r\n",
      "3 65537 34994172831804274729\r\n"
     ]
    }
   ],
   "source": [
    "cat public_dir.txt"
   ]
  },
  {
   "cell_type": "code",
   "execution_count": 6,
   "metadata": {},
   "outputs": [
    {
     "name": "stdout",
     "output_type": "stream",
     "text": [
      "'Assignment 2.pdf'   private_2.txt    Receiver.ipynb\r\n",
      " CA.ipynb            private_3.txt    Sender.ipynb\r\n",
      " private_1.txt       public_dir.txt   test.ipynb\r\n"
     ]
    }
   ],
   "source": [
    "ls"
   ]
  },
  {
   "cell_type": "code",
   "execution_count": 7,
   "metadata": {},
   "outputs": [
    {
     "name": "stdout",
     "output_type": "stream",
     "text": [
      "65537 18257179258442105089 5915587277 5915587277\r\n"
     ]
    }
   ],
   "source": [
    "cat private_2.txt"
   ]
  },
  {
   "cell_type": "code",
   "execution_count": null,
   "metadata": {},
   "outputs": [],
   "source": []
  }
 ],
 "metadata": {
  "kernelspec": {
   "display_name": "Python 3",
   "language": "python",
   "name": "python3"
  },
  "language_info": {
   "codemirror_mode": {
    "name": "ipython",
    "version": 3
   },
   "file_extension": ".py",
   "mimetype": "text/x-python",
   "name": "python",
   "nbconvert_exporter": "python",
   "pygments_lexer": "ipython3",
   "version": "3.7.6"
  }
 },
 "nbformat": 4,
 "nbformat_minor": 2
}
