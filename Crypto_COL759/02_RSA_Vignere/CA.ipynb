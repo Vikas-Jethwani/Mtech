{
 "cells": [
  {
   "cell_type": "code",
   "execution_count": 18,
   "metadata": {},
   "outputs": [],
   "source": [
    "from time import time\n",
    "import math\n",
    "import gmpy2\n",
    "import random"
   ]
  },
  {
   "cell_type": "code",
   "execution_count": 19,
   "metadata": {},
   "outputs": [],
   "source": [
    "DISTINCT = 37\n",
    "CHECK = ord('-')-ord('a') # for '-'\n",
    "FIX = 26 # for '-'\n",
    "FIX_NUM = 27 # for number '0' and so on...\n",
    "KEY_LEN = 256"
   ]
  },
  {
   "cell_type": "code",
   "execution_count": null,
   "metadata": {},
   "outputs": [],
   "source": []
  },
  {
   "cell_type": "code",
   "execution_count": 20,
   "metadata": {},
   "outputs": [],
   "source": [
    "SMALL_PRIMES_UPTO = 10000\n",
    "SMALL_PRIMES = [i for i in range(SMALL_PRIMES_UPTO) if gmpy2.is_prime(i)]\n",
    "def remove_small_primes(n):\n",
    "    for prime in SMALL_PRIMES:\n",
    "        while n%prime==0:\n",
    "            n  //= prime\n",
    "    return n"
   ]
  },
  {
   "cell_type": "code",
   "execution_count": 21,
   "metadata": {},
   "outputs": [],
   "source": [
    "def is_strong_prime(p):\n",
    "    if not gmpy2.is_prime(p): return False\n",
    "    \n",
    "    # p-1\n",
    "    q = remove_small_primes(p-1)\n",
    "    if not gmpy2.is_prime(q): return False\n",
    "    \n",
    "    # q-1\n",
    "    if not gmpy2.is_prime(remove_small_primes(q-1)): return False\n",
    "\n",
    "    #p+1\n",
    "    if not gmpy2.is_prime(remove_small_primes(p+1)): return False\n",
    "    \n",
    "    return True"
   ]
  },
  {
   "cell_type": "code",
   "execution_count": 22,
   "metadata": {},
   "outputs": [],
   "source": [
    "def generate_strong_prime(length=512):\n",
    "    \n",
    "    low = 2**length\n",
    "    high = 2**(length+1) - 1\n",
    "    \n",
    "    strong_prime_candidate = int(gmpy2.next_prime(random.randint(low, high)))\n",
    "    while not is_strong_prime(strong_prime_candidate):\n",
    "#         strong_prime_candidate = int(gmpy2.next_prime( strong_prime_candidate + 1 ))\n",
    "    \n",
    "        strong_prime_candidate = int(gmpy2.next_prime(random.randint(low, high)))\n",
    "    \n",
    "    return strong_prime_candidate"
   ]
  },
  {
   "cell_type": "code",
   "execution_count": null,
   "metadata": {},
   "outputs": [],
   "source": []
  },
  {
   "cell_type": "code",
   "execution_count": 23,
   "metadata": {},
   "outputs": [],
   "source": [
    "def find_block_size(num_diff_chars, n):\n",
    "    block_size = int(math.log(n, num_diff_chars))\n",
    "\n",
    "    if num_diff_chars**block_size == n:\n",
    "        return block_size-1\n",
    "    else:\n",
    "        return block_size"
   ]
  },
  {
   "cell_type": "code",
   "execution_count": 24,
   "metadata": {},
   "outputs": [],
   "source": [
    "def encrypt_RSA(pl_text, key, n):\n",
    "    ci_text = ''\n",
    "    r = find_block_size(DISTINCT, n)\n",
    "    s = r+1\n",
    "    for i in range(0, len(pl_text), r):\n",
    "        block = pl_text[i:i+r]\n",
    "        M = 0\n",
    "        for j, ch in enumerate(block):\n",
    "            if ch=='-':\n",
    "                M += (FIX)*(DISTINCT**j)\n",
    "            elif '0' <= ch <= '9':\n",
    "                M += (ord(ch) - ord('0') + FIX_NUM)*(DISTINCT**j)\n",
    "            else:\n",
    "                M += (ord(ch) - ord('a'))*(DISTINCT**j)\n",
    "        \n",
    "        C = pow(M, key, n)\n",
    "        for j in range(s-1,-1,-1):\n",
    "            temp = C // (DISTINCT**j)\n",
    "            C -= temp*(DISTINCT**j)\n",
    "            \n",
    "            # for Numbers\n",
    "            if FIX_NUM <= temp <= FIX_NUM+9:\n",
    "                ci_text += chr(temp-FIX_NUM + ord('0'))\n",
    "            else:\n",
    "                if temp == FIX: temp = CHECK # for '-'\n",
    "                ci_text += chr(temp+ord('a'))\n",
    "\n",
    "    return ci_text"
   ]
  },
  {
   "cell_type": "code",
   "execution_count": 25,
   "metadata": {},
   "outputs": [
    {
     "data": {
      "text/plain": [
       "311"
      ]
     },
     "execution_count": 25,
     "metadata": {},
     "output_type": "execute_result"
    }
   ],
   "source": [
    "CA_p = generate_strong_prime(KEY_LEN)\n",
    "CA_q = generate_strong_prime(KEY_LEN)\n",
    "CA_n = CA_p * CA_q\n",
    "CA_phi_n = (CA_p-1) * (CA_q-1)\n",
    "\n",
    "# CA_e = 65537 # Change\n",
    "low = 2**(2*KEY_LEN)\n",
    "high = CA_phi_n - 1\n",
    "\n",
    "CA_e = int(gmpy2.next_prime(random.randint(low, high)))\n",
    "g, s, t = gmpy2.gcdext(CA_e, CA_phi_n)\n",
    "while g != 1:\n",
    "    g, s, t = gmpy2.gcdext(CA_e, CA_phi_n)\n",
    "CA_d = s%CA_phi_n\n",
    "\n",
    "open('public_CA.txt', 'w+').write(str(CA_e) + ' ' + str(CA_n))"
   ]
  },
  {
   "cell_type": "code",
   "execution_count": 26,
   "metadata": {},
   "outputs": [],
   "source": [
    "def generate_keys_CA(N=2):\n",
    "    \"\"\"\n",
    "        N = No. of people in group for whom public and private keys have to be generated.\n",
    "        \n",
    "        Outputs 1 file with everyone's public key.\n",
    "        and N files with their respective private key.\n",
    "    \"\"\"\n",
    "    # Remove all old keys\n",
    "    open('public_dir.txt', 'w+').close()\n",
    "\n",
    "    for i in range(1,N+1):\n",
    "        p = generate_strong_prime(KEY_LEN)\n",
    "        q = generate_strong_prime(KEY_LEN)\n",
    "        n = p*q\n",
    "        phi_n = (p-1)*(q-1)\n",
    "        \n",
    "#         e = 65537 # Change\n",
    "        low = 2**(2*KEY_LEN)\n",
    "        high = phi_n - 1\n",
    "\n",
    "        e = int(gmpy2.next_prime(random.randint(low, high)))\n",
    "        g, s, t = gmpy2.gcdext(e, phi_n)\n",
    "        while g != 1:\n",
    "            g, s, t = gmpy2.gcdext(e, phi_n)\n",
    "        d = s%phi_n\n",
    "        \n",
    "        public_key = str(i) + ' ' + str(e) + ' ' + str(n) + '\\n'\n",
    "        private_details = str(e) + '-' + str(d) + '-' + str(p) + '-' + str(q)\n",
    "        private_details_RSA = encrypt_RSA(private_details, CA_d, CA_n)\n",
    "\n",
    "        #TEST ALL RSA\n",
    "        \n",
    "        public_dir = open('public_dir.txt', 'a+')\n",
    "        public_dir.write(public_key)\n",
    "        public_dir.close()\n",
    "        \n",
    "        private_dir = open('private_' + str(i) + '.txt', 'w+')\n",
    "        private_dir.write(private_details_RSA)\n",
    "        private_dir.close()"
   ]
  },
  {
   "cell_type": "code",
   "execution_count": 27,
   "metadata": {},
   "outputs": [],
   "source": [
    "generate_keys_CA(3)"
   ]
  },
  {
   "cell_type": "code",
   "execution_count": 28,
   "metadata": {},
   "outputs": [
    {
     "name": "stdout",
     "output_type": "stream",
     "text": [
      "1 21105570766843659328511593158656167168148006995416558605623474933672397766396078713615849211036268177245175640742365642309258709599039785367620791025387531 24544151009964545158982814316391649007352047690434335241522430839611657798601334528424220606833407501510652994016951536567312845740123722873490739879818543\r\n",
      "2 18673377149495571239761168825306369573088289223486129825999649966932155193861141947859237757958402469353413176573481951097236886072316197512133244760473073 23050320091441224337860393078569837497281936378238830147728396679068198542793748142426518915684924245793070840988760814436977985422844739981400916276881969\r\n",
      "3 15675277355078878911170389238273183925663913558010588792950077727848369807796940049350178835344813728468196852792005007665334836998172536988386095431095561 20286053949125415491657683348078379141320613027876838550315910818260897179928089113574271269466010025675001609047435105868452642708870138930234237010937717\r\n"
     ]
    }
   ],
   "source": [
    "cat public_dir.txt"
   ]
  },
  {
   "cell_type": "code",
   "execution_count": 29,
   "metadata": {},
   "outputs": [
    {
     "name": "stdout",
     "output_type": "stream",
     "text": [
      "'Assignment 2.pdf'   private_2.txt   public_dir.txt   test.ipynb\r\n",
      " CA.ipynb            private_3.txt   Receiver.ipynb\r\n",
      " private_1.txt       public_CA.txt   Sender.ipynb\r\n"
     ]
    }
   ],
   "source": [
    "ls"
   ]
  },
  {
   "cell_type": "code",
   "execution_count": 30,
   "metadata": {},
   "outputs": [
    {
     "name": "stdout",
     "output_type": "stream",
     "text": [
      "cn915cnn8q12xcv5kcqxpxh-q9vois79pdyce2zwwulg-a759x6jzgf6iei8ghf8yzzp1weswi4zvhi5swbnle-vke7j-tyovddbablcm-5delvd3ecgwnznbm3sby8f12wr-z2kag418l93mkcptm7s2or2yq5eabh4z606314o8embsjrh4cvv6krs-k3tntp7bxb6-d2vqictdfy8tlitqx9gpu1d3ut8twihdexnqz5pxvqdu3nnmg7mq-6mo449kxioil3erkelx8jzhsq4tiskf1yzevdq0g-jud6kiprqhvb9i81d7dl4qom4g4e8wbwaen6m60l0vkm9dxj1kap59162uh6zvlx18nj12h83pir1o6-5n8zi2poejdjbulite2naczoy-dtvw3mjcc17p73vqs60xzpv3o5tlde8vtimye1jdgzaq3qxctvduypo515amtgpac45epw1s8xlw8fee1l-j8s4pd4uhfg"
     ]
    }
   ],
   "source": [
    "cat private_2.txt"
   ]
  },
  {
   "cell_type": "code",
   "execution_count": 165,
   "metadata": {},
   "outputs": [],
   "source": []
  },
  {
   "cell_type": "code",
   "execution_count": 166,
   "metadata": {},
   "outputs": [
    {
     "data": {
      "text/plain": [
       "False"
      ]
     },
     "execution_count": 166,
     "metadata": {},
     "output_type": "execute_result"
    }
   ],
   "source": [
    "gmpy2.is_prime(remove_small_primes(999999999999999980835596172437374590573120014030318793091164810154100112203678582976298268616221151962702060266176005440567032331208403948233373515999-1))"
   ]
  },
  {
   "cell_type": "code",
   "execution_count": 167,
   "metadata": {},
   "outputs": [],
   "source": []
  },
  {
   "cell_type": "code",
   "execution_count": 168,
   "metadata": {},
   "outputs": [],
   "source": []
  },
  {
   "cell_type": "code",
   "execution_count": 97,
   "metadata": {},
   "outputs": [
    {
     "name": "stdout",
     "output_type": "stream",
     "text": [
      "1.15 s ± 254 ms per loop (mean ± std. dev. of 7 runs, 10 loops each)\n"
     ]
    }
   ],
   "source": [
    "%timeit generate_strong_prime(256)"
   ]
  },
  {
   "cell_type": "code",
   "execution_count": null,
   "metadata": {},
   "outputs": [],
   "source": []
  },
  {
   "cell_type": "code",
   "execution_count": 78,
   "metadata": {},
   "outputs": [
    {
     "name": "stdout",
     "output_type": "stream",
     "text": [
      "14119517433375891433105733435131985696491991009496058399846096586592742072303723513525724274696280915422760225753622038667143708555144956502351706183146289\n",
      "Time:  0:00:47.859417\n"
     ]
    }
   ],
   "source": [
    "from datetime import datetime\n",
    "start = datetime.now()\n",
    "print(generate_strong_prime())\n",
    "print(\"Time: \", datetime.now()-start)"
   ]
  },
  {
   "cell_type": "code",
   "execution_count": null,
   "metadata": {},
   "outputs": [],
   "source": []
  }
 ],
 "metadata": {
  "kernelspec": {
   "display_name": "Python 3",
   "language": "python",
   "name": "python3"
  },
  "language_info": {
   "codemirror_mode": {
    "name": "ipython",
    "version": 3
   },
   "file_extension": ".py",
   "mimetype": "text/x-python",
   "name": "python",
   "nbconvert_exporter": "python",
   "pygments_lexer": "ipython3",
   "version": "3.7.6"
  }
 },
 "nbformat": 4,
 "nbformat_minor": 2
}
