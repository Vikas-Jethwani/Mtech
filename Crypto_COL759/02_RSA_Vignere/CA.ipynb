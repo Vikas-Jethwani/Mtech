{
 "cells": [
  {
   "cell_type": "code",
   "execution_count": 1,
   "metadata": {},
   "outputs": [],
   "source": [
    "from time import time # For self time measurements\n",
    "import math # For log\n",
    "import gmpy2 # For prime related stuff and mod_inverse\n",
    "import random # To generate first random number for input to next_prime"
   ]
  },
  {
   "cell_type": "code",
   "execution_count": 2,
   "metadata": {},
   "outputs": [],
   "source": [
    "# Global Constants\n",
    "DISTINCT = 37\n",
    "CHECK = ord('-')-ord('a') # for '-'\n",
    "FIX = 26 # for '-'\n",
    "FIX_NUM = 27 # for number '0' and so on...\n",
    "KEY_LEN = 512"
   ]
  },
  {
   "cell_type": "code",
   "execution_count": null,
   "metadata": {},
   "outputs": [],
   "source": []
  },
  {
   "cell_type": "code",
   "execution_count": 3,
   "metadata": {},
   "outputs": [],
   "source": [
    "# Method 1: Strong Prime Generation\n",
    "SMALL_PRIMES_UPTO = 100000\n",
    "SMALL_PRIMES = [i for i in range(SMALL_PRIMES_UPTO) if gmpy2.is_prime(i)]\n",
    "def remove_small_primes(n):\n",
    "    for prime in SMALL_PRIMES:\n",
    "        while n%prime==0:\n",
    "            n  //= prime\n",
    "    return n"
   ]
  },
  {
   "cell_type": "code",
   "execution_count": 4,
   "metadata": {},
   "outputs": [],
   "source": [
    "def is_strong_prime(p):\n",
    "    if not gmpy2.is_prime(p): return False\n",
    "    \n",
    "    # p-1\n",
    "    q = remove_small_primes(p-1)\n",
    "    if math.log(q, 2) < 2*KEY_LEN/3 : return False\n",
    "    if not gmpy2.is_prime(q): return False\n",
    "    \n",
    "    # q-1\n",
    "    if not gmpy2.is_prime(remove_small_primes(q-1)): return False\n",
    "\n",
    "    #p+1\n",
    "    p1 = remove_small_primes(p+1)\n",
    "    if math.log(p1, 2) < 2*KEY_LEN/3 : return False\n",
    "    if not gmpy2.is_prime(p1): return False\n",
    "    \n",
    "    return True"
   ]
  },
  {
   "cell_type": "code",
   "execution_count": 5,
   "metadata": {},
   "outputs": [],
   "source": [
    "def generate_strong_prime(length=512):\n",
    "    \n",
    "    low = 2**length\n",
    "    high = 2**(length+1) - 1\n",
    "    \n",
    "    strong_prime_candidate = int(gmpy2.next_prime(random.randint(low, high)))\n",
    "    while not is_strong_prime(strong_prime_candidate):\n",
    "#         strong_prime_candidate = int(gmpy2.next_prime( strong_prime_candidate + 1 ))\n",
    "        strong_prime_candidate = int(gmpy2.next_prime(random.randint(low, high)))\n",
    "    \n",
    "    return strong_prime_candidate"
   ]
  },
  {
   "cell_type": "code",
   "execution_count": null,
   "metadata": {},
   "outputs": [],
   "source": []
  },
  {
   "cell_type": "code",
   "execution_count": 6,
   "metadata": {},
   "outputs": [],
   "source": [
    "# Method 2 : Sir's definition: Airthmetic strong prime + (p-1)/2 is prime.\n",
    "def generate_strong_prime_2(length=512):\n",
    "    \n",
    "    low = 2**length\n",
    "    high = 2**(length+1) - 1\n",
    "    \n",
    "    # Pn = 2*q + 1\n",
    "    # also: Pn > (Pn-1 + Pn+1)/2 \n",
    "    Pn0 = int(gmpy2.next_prime(random.randint(low, high)))\n",
    "    Pn1 = int(gmpy2.next_prime( Pn0 + 1 ))\n",
    "    Pn2 = int(gmpy2.next_prime( Pn1 + 1 ))\n",
    "    \n",
    "    q = (Pn1-1)//2\n",
    "    \n",
    "    while not( Pn1 > (Pn0+Pn2)//2 and gmpy2.is_prime(q) ):\n",
    "        \n",
    "        Pn0 = int(gmpy2.next_prime(random.randint(low, high)))\n",
    "        Pn1 = int(gmpy2.next_prime( Pn0 + 1 ))\n",
    "        Pn2 = int(gmpy2.next_prime( Pn1 + 1 ))\n",
    "\n",
    "        q = (Pn1-1)//2\n",
    "    return Pn1"
   ]
  },
  {
   "cell_type": "code",
   "execution_count": null,
   "metadata": {},
   "outputs": [],
   "source": []
  },
  {
   "cell_type": "code",
   "execution_count": 7,
   "metadata": {},
   "outputs": [],
   "source": [
    "# Find dynamic block size by formula mentioned in class\n",
    "def find_block_size(num_diff_chars, n):\n",
    "    block_size = int(math.log(n, num_diff_chars))\n",
    "\n",
    "    if num_diff_chars**block_size >= n:\n",
    "        return block_size-1\n",
    "    else:\n",
    "        return block_size"
   ]
  },
  {
   "cell_type": "code",
   "execution_count": 8,
   "metadata": {},
   "outputs": [],
   "source": [
    "# RSA Encryption : Using CRT if possible\n",
    "def encrypt_RSA(pl_text, key, n, CRT='no', p=None, q=None):\n",
    "    ci_text = ''\n",
    "    r = find_block_size(DISTINCT, n)\n",
    "    s = r+1\n",
    "    for i in range(0, len(pl_text), r):\n",
    "        block = pl_text[i:i+r]\n",
    "        M = 0\n",
    "        for j, ch in enumerate(block):\n",
    "            if ch=='-':\n",
    "                M += (FIX)*(DISTINCT**j)\n",
    "            elif '0' <= ch <= '9':\n",
    "                M += (ord(ch) - ord('0') + FIX_NUM)*(DISTINCT**j)\n",
    "            else:\n",
    "                M += (ord(ch) - ord('a'))*(DISTINCT**j)\n",
    "\n",
    "        # ====================================\n",
    "        if CRT=='no':\n",
    "            C = pow(M, key, n)\n",
    "        else:\n",
    "            dP = key % (p-1)\n",
    "            dQ = key % (q-1)\n",
    "\n",
    "            g, ss, t = gmpy2.gcdext(q, p)\n",
    "            q_inv = int(ss) % p\n",
    "\n",
    "            x1 = pow(M, dP, p)\n",
    "            x2 = pow(M, dQ, q)\n",
    "            h = q_inv*(x1-x2) % p\n",
    "            C = (x2 + h*q)\n",
    "        # ====================================\n",
    "\n",
    "        for j in range(s-1,-1,-1):\n",
    "            temp = C // (DISTINCT**j)\n",
    "            C -= temp*(DISTINCT**j)\n",
    "            \n",
    "            # for Numbers\n",
    "            if FIX_NUM <= temp <= FIX_NUM+9:\n",
    "                ci_text += chr(temp-FIX_NUM + ord('0'))\n",
    "            else:\n",
    "                if temp == FIX: temp = CHECK # for '-'\n",
    "                ci_text += chr(temp+ord('a'))\n",
    "\n",
    "    return ci_text"
   ]
  },
  {
   "cell_type": "code",
   "execution_count": 9,
   "metadata": {},
   "outputs": [
    {
     "data": {
      "text/plain": [
       "619"
      ]
     },
     "execution_count": 9,
     "metadata": {},
     "output_type": "execute_result"
    }
   ],
   "source": [
    "# Generate primes for CA\n",
    "CA_p = generate_strong_prime_2(KEY_LEN)\n",
    "CA_q = generate_strong_prime_2(KEY_LEN)\n",
    "CA_n = CA_p * CA_q\n",
    "CA_phi_n = (CA_p-1) * (CA_q-1)\n",
    "\n",
    "# Starting point\n",
    "low = 2**(KEY_LEN-1)\n",
    "high = CA_phi_n - 1\n",
    "\n",
    "CA_e = int(gmpy2.next_prime(random.randint(low, high)))\n",
    "g, s, t = gmpy2.gcdext(CA_e, CA_phi_n)\n",
    "while g != 1:\n",
    "    CA_e = int(gmpy2.next_prime(random.randint(low, high)))\n",
    "    g, s, t = gmpy2.gcdext(CA_e, CA_phi_n)\n",
    "CA_d = s%CA_phi_n\n",
    "\n",
    "open('public_CA.txt', 'w+').write(str(CA_e) + ' ' + str(CA_n))"
   ]
  },
  {
   "cell_type": "code",
   "execution_count": 10,
   "metadata": {},
   "outputs": [],
   "source": [
    "def generate_keys_CA(N=2):\n",
    "    \"\"\"\n",
    "        N = No. of people in group for whom public and private keys have to be generated.\n",
    "        \n",
    "        Outputs 1 file with everyone's public key.\n",
    "        and N files with their respective private key.\n",
    "    \"\"\"\n",
    "    # Remove all old keys\n",
    "    open('public_dir.txt', 'w+').close()\n",
    "\n",
    "    for i in range(1,N+1):\n",
    "        p = generate_strong_prime_2(KEY_LEN)\n",
    "        q = generate_strong_prime_2(KEY_LEN)\n",
    "        n = p*q\n",
    "        phi_n = (p-1)*(q-1)\n",
    "        \n",
    "        low = 2**(KEY_LEN-1)\n",
    "        high = phi_n - 1\n",
    "\n",
    "        e = int(gmpy2.next_prime(random.randint(low, high)))\n",
    "        g, s, t = gmpy2.gcdext(e, phi_n)\n",
    "        while g != 1:\n",
    "            e = int(gmpy2.next_prime(random.randint(low, high)))\n",
    "            g, s, t = gmpy2.gcdext(e, phi_n)\n",
    "        d = s%phi_n\n",
    "        \n",
    "#         public_details = str(i) + '-' + str(e) + '-' + str(n)\n",
    "        public_details = str(e) + '-' + str(n)\n",
    "        public_details_RSA = encrypt_RSA(public_details, CA_d, CA_n)\n",
    "        private_details = str(e) + '-' + str(d) + '-' + str(p) + '-' + str(q)\n",
    "        private_details_RSA = encrypt_RSA(private_details, CA_d, CA_n)\n",
    "\n",
    "        \n",
    "        public_dir = open('public_dir.txt', 'a+')\n",
    "        public_dir.write(str(i) + ' ' + public_details_RSA + '\\n')\n",
    "        public_dir.close()\n",
    "        \n",
    "        private_dir = open('private_' + str(i) + '.txt', 'w+')\n",
    "        private_dir.write(private_details_RSA)\n",
    "        private_dir.close()"
   ]
  },
  {
   "cell_type": "code",
   "execution_count": 11,
   "metadata": {},
   "outputs": [],
   "source": [
    "# Generate Keys for Users\n",
    "generate_keys_CA(2)"
   ]
  },
  {
   "cell_type": "code",
   "execution_count": null,
   "metadata": {},
   "outputs": [],
   "source": []
  }
 ],
 "metadata": {
  "kernelspec": {
   "display_name": "Python 3",
   "language": "python",
   "name": "python3"
  },
  "language_info": {
   "codemirror_mode": {
    "name": "ipython",
    "version": 3
   },
   "file_extension": ".py",
   "mimetype": "text/x-python",
   "name": "python",
   "nbconvert_exporter": "python",
   "pygments_lexer": "ipython3",
   "version": "3.6.9"
  }
 },
 "nbformat": 4,
 "nbformat_minor": 2
}
