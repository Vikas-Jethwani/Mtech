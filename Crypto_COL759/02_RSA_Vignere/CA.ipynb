{
 "cells": [
  {
   "cell_type": "code",
   "execution_count": 1,
   "metadata": {},
   "outputs": [],
   "source": [
    "from time import time\n",
    "import math\n",
    "import gmpy2\n",
    "import random"
   ]
  },
  {
   "cell_type": "code",
   "execution_count": 2,
   "metadata": {},
   "outputs": [],
   "source": [
    "DISTINCT = 37\n",
    "CHECK = ord('-')-ord('a') # for '-'\n",
    "FIX = 26 # for '-'\n",
    "FIX_NUM = 27 # for number '0' and so on...\n",
    "KEY_LEN = 512"
   ]
  },
  {
   "cell_type": "code",
   "execution_count": null,
   "metadata": {},
   "outputs": [],
   "source": []
  },
  {
   "cell_type": "code",
   "execution_count": 3,
   "metadata": {},
   "outputs": [],
   "source": [
    "SMALL_PRIMES_UPTO = 100000\n",
    "SMALL_PRIMES = [i for i in range(SMALL_PRIMES_UPTO) if gmpy2.is_prime(i)]\n",
    "def remove_small_primes(n):\n",
    "    for prime in SMALL_PRIMES:\n",
    "        while n%prime==0:\n",
    "            n  //= prime\n",
    "    return n"
   ]
  },
  {
   "cell_type": "code",
   "execution_count": 4,
   "metadata": {},
   "outputs": [],
   "source": [
    "def is_strong_prime(p):\n",
    "    if not gmpy2.is_prime(p): return False\n",
    "    \n",
    "    # p-1\n",
    "    q = remove_small_primes(p-1)\n",
    "    if not gmpy2.is_prime(q): return False\n",
    "    \n",
    "    # q-1\n",
    "    if not gmpy2.is_prime(remove_small_primes(q-1)): return False\n",
    "\n",
    "    #p+1\n",
    "    if not gmpy2.is_prime(remove_small_primes(p+1)): return False\n",
    "    \n",
    "    return True"
   ]
  },
  {
   "cell_type": "code",
   "execution_count": 5,
   "metadata": {},
   "outputs": [],
   "source": [
    "def generate_strong_prime(length=512):\n",
    "    \n",
    "    low = 2**length\n",
    "    high = 2**(length+1) - 1\n",
    "    \n",
    "    strong_prime_candidate = int(gmpy2.next_prime(random.randint(low, high)))\n",
    "    while not is_strong_prime(strong_prime_candidate):\n",
    "#         strong_prime_candidate = int(gmpy2.next_prime( strong_prime_candidate + 1 ))\n",
    "        strong_prime_candidate = int(gmpy2.next_prime(random.randint(low, high)))\n",
    "    \n",
    "    return strong_prime_candidate"
   ]
  },
  {
   "cell_type": "code",
   "execution_count": 6,
   "metadata": {},
   "outputs": [],
   "source": [
    "def generate_strong_prime_2(length=512):\n",
    "    \n",
    "    low = 2**length\n",
    "    high = 2**(length+1) - 1\n",
    "    \n",
    "    # Pn = 2*q + 1\n",
    "    # also: Pn > (Pn-1 + Pn+1)/2 \n",
    "    Pn0 = int(gmpy2.next_prime(random.randint(low, high)))\n",
    "    Pn1 = int(gmpy2.next_prime( Pn0 + 1 ))\n",
    "    Pn2 = int(gmpy2.next_prime( Pn1 + 1 ))\n",
    "    \n",
    "    q = (Pn1-1)//2\n",
    "    \n",
    "    while not( Pn1 > (Pn0+Pn2)//2 and gmpy2.is_prime(q) ):\n",
    "        \n",
    "        Pn0 = int(gmpy2.next_prime(random.randint(low, high)))\n",
    "        Pn1 = int(gmpy2.next_prime( Pn0 + 1 ))\n",
    "        Pn2 = int(gmpy2.next_prime( Pn1 + 1 ))\n",
    "\n",
    "        q = (Pn1-1)//2\n",
    "    return Pn1"
   ]
  },
  {
   "cell_type": "code",
   "execution_count": 7,
   "metadata": {},
   "outputs": [],
   "source": [
    "def find_block_size(num_diff_chars, n):\n",
    "    block_size = int(math.log(n, num_diff_chars))\n",
    "\n",
    "    if num_diff_chars**block_size >= n:\n",
    "        return block_size-1\n",
    "    else:\n",
    "        return block_size"
   ]
  },
  {
   "cell_type": "code",
   "execution_count": null,
   "metadata": {},
   "outputs": [],
   "source": []
  },
  {
   "cell_type": "code",
   "execution_count": 8,
   "metadata": {},
   "outputs": [],
   "source": [
    "def encrypt_RSA(pl_text, key, n):\n",
    "    ci_text = ''\n",
    "    r = find_block_size(DISTINCT, n)\n",
    "    s = r+1\n",
    "    for i in range(0, len(pl_text), r):\n",
    "        block = pl_text[i:i+r]\n",
    "        M = 0\n",
    "        for j, ch in enumerate(block):\n",
    "            if ch=='-':\n",
    "                M += (FIX)*(DISTINCT**j)\n",
    "            elif '0' <= ch <= '9':\n",
    "                M += (ord(ch) - ord('0') + FIX_NUM)*(DISTINCT**j)\n",
    "            else:\n",
    "                M += (ord(ch) - ord('a'))*(DISTINCT**j)\n",
    "        \n",
    "        C = pow(M, key, n)\n",
    "        \n",
    "        for j in range(s-1,-1,-1):\n",
    "            temp = C // (DISTINCT**j)\n",
    "            C -= temp*(DISTINCT**j)\n",
    "            \n",
    "            # for Numbers\n",
    "            if FIX_NUM <= temp <= FIX_NUM+9:\n",
    "                ci_text += chr(temp-FIX_NUM + ord('0'))\n",
    "            else:\n",
    "                if temp == FIX: temp = CHECK # for '-'\n",
    "                ci_text += chr(temp+ord('a'))\n",
    "\n",
    "    return ci_text"
   ]
  },
  {
   "cell_type": "code",
   "execution_count": 9,
   "metadata": {},
   "outputs": [
    {
     "data": {
      "text/plain": [
       "619"
      ]
     },
     "execution_count": 9,
     "metadata": {},
     "output_type": "execute_result"
    }
   ],
   "source": [
    "CA_p = generate_strong_prime_2(KEY_LEN)\n",
    "CA_q = generate_strong_prime_2(KEY_LEN)\n",
    "CA_n = CA_p * CA_q\n",
    "CA_phi_n = (CA_p-1) * (CA_q-1)\n",
    "\n",
    "low = 2**(KEY_LEN-1)\n",
    "high = CA_phi_n - 1\n",
    "\n",
    "CA_e = int(gmpy2.next_prime(random.randint(low, high)))\n",
    "g, s, t = gmpy2.gcdext(CA_e, CA_phi_n)\n",
    "while g != 1:\n",
    "    CA_e = int(gmpy2.next_prime(random.randint(low, high)))\n",
    "    g, s, t = gmpy2.gcdext(CA_e, CA_phi_n)\n",
    "CA_d = s%CA_phi_n\n",
    "\n",
    "open('public_CA.txt', 'w+').write(str(CA_e) + ' ' + str(CA_n))"
   ]
  },
  {
   "cell_type": "code",
   "execution_count": 10,
   "metadata": {},
   "outputs": [],
   "source": [
    "def generate_keys_CA(N=2):\n",
    "    \"\"\"\n",
    "        N = No. of people in group for whom public and private keys have to be generated.\n",
    "        \n",
    "        Outputs 1 file with everyone's public key.\n",
    "        and N files with their respective private key.\n",
    "    \"\"\"\n",
    "    # Remove all old keys\n",
    "    open('public_dir.txt', 'w+').close()\n",
    "\n",
    "    for i in range(1,N+1):\n",
    "        p = generate_strong_prime_2(KEY_LEN)\n",
    "        q = generate_strong_prime_2(KEY_LEN)\n",
    "        n = p*q\n",
    "        phi_n = (p-1)*(q-1)\n",
    "        \n",
    "        low = 2**(KEY_LEN-1)\n",
    "        high = phi_n - 1\n",
    "\n",
    "        e = int(gmpy2.next_prime(random.randint(low, high)))\n",
    "        g, s, t = gmpy2.gcdext(e, phi_n)\n",
    "        while g != 1:\n",
    "            e = int(gmpy2.next_prime(random.randint(low, high)))\n",
    "            g, s, t = gmpy2.gcdext(e, phi_n)\n",
    "        d = s%phi_n\n",
    "        \n",
    "#         public_details = str(i) + '-' + str(e) + '-' + str(n)\n",
    "        public_details = str(e) + '-' + str(n)\n",
    "        public_details_RSA = encrypt_RSA(public_details, CA_d, CA_n)\n",
    "        private_details = str(e) + '-' + str(d) + '-' + str(p) + '-' + str(q)\n",
    "        private_details_RSA = encrypt_RSA(private_details, CA_d, CA_n)\n",
    "\n",
    "        \n",
    "        public_dir = open('public_dir.txt', 'a+')\n",
    "        public_dir.write(str(i) + ' ' + public_details_RSA + '\\n')\n",
    "        public_dir.close()\n",
    "        \n",
    "        private_dir = open('private_' + str(i) + '.txt', 'w+')\n",
    "        private_dir.write(private_details_RSA)\n",
    "        private_dir.close()"
   ]
  },
  {
   "cell_type": "code",
   "execution_count": 11,
   "metadata": {},
   "outputs": [],
   "source": [
    "generate_keys_CA(2)"
   ]
  },
  {
   "cell_type": "code",
   "execution_count": 12,
   "metadata": {},
   "outputs": [
    {
     "name": "stdout",
     "output_type": "stream",
     "text": [
      "1 gnuiergm68vr1nis-54acbqg304-zzz16h9kp3awfck4io9xej0uronrv4k4yx556iw04076ehobhmkopluzz5t5xw2b440e95j3d6-wmqoy13k28-n11ovg-xmbw2zyv0pzdhg7qfpa6i3o4qsf1vtdlnpen-opxgatnz0y55kg2gr3rlithozn70rp1ydbpslxtbx6sog3l3p--zrikwoxzw3cm04dex021qokvwukyumtpdjekbmcna04x2sty9h63ub4gxp654gzmbbulfp12zsbib5i2n7g42mg-won-3k8xps12iwfnabkwhyyid1ahpfr9bsdnsch0wd0ehd9seslnydy0961hr7kyjfumt-ev5h4ttskm77snkmusn0ptegz3-mxmc8n9uh83qk4hbz2ieikl-d4aw-pu7s2-a3sfzszz77fdvt8ltkpa6c4almqp-kuphz1vg74yo3cwsfg3aspgwy1-koyue26w52vhbs6128qrgyy1dhhnw59mca-me50wcz2ziw15s982vwj6hxlstm112-84oknfojcpjqg9rp1zpvjiimh59tb15pjnhkd3f0k06qnrpwy4jyyphlh4zt5jmc5fqyxaqqx2co5h1263hswqweblyx3rkr0plcpo4w8es-q81w-vrd87xie1ik6g7ilgvdbj-iuugz1djjq2dk9-etajef02-l1nfoh5qe8-3-atrqt5jqqmoa7c59950amfrgdosurvlxh7o9ghnau5vq2p6ye2boqxmz589ro59c-\r\n",
      "2 evqb8759bw2ela9rsff65bi52w9j1tu2v0aje0xftzlxop3bvj41826imvmlkagoy7gqfpu-b0crrjm0o9obf0qhlzyt0eehp7c63485lomhnijmnn2mg9evdgmh39p937ow-xl33nsbe5e7zdlig--kpfhn8z9a846wrqj0e69xyx4nsi8ycarkf9py5y79jzvi7a-6q8rp8np2fr9zk4gvo5lixy5ch000jwjo5on3j4d1bxg72h339j6-3nadyf3hevv3jv4t4vpkvd-93nyv5nw7sp2jrbgc6-mskw2gquexbioswbeyvie5zetpzr53yma3lgzh9bhegre9g7eh-4b8u3w1rotw6sw19g-6fb1ixp2dw0fujozg2qunbjrvgqjm2rgdb-ymb5-pea4r2rsg5ko733w2fpt5z5jru8bq0e8a8wyvt60ijseb0kza4o177gunn6z2sfyr915p8zhvz6dktmf996gxt-mujmnqdo95a16m11j2a6m37tgjpg5qp6kyr2pfla8wadk-8aubageli44gfqqrpml4o0wcrzqdnxvdszafbx9w2u8v7mg2j8508upi6sgzzy2opapw6-4t1wm9bcyfc61gnn4ibm8139zktiyb7xv4es8-swh7820h144jyaxogkchaveg-z7xrdnehepdap4-mrb978usbm5ulbujl5i35myrsuw9f5pf04eeymj0vu6m1vjcy21cpc4i4cel3nyj58n8-d7hkj6f-u673n6yj51yavba1li3zgjomkog\r\n"
     ]
    }
   ],
   "source": [
    "cat public_dir.txt"
   ]
  },
  {
   "cell_type": "code",
   "execution_count": 13,
   "metadata": {},
   "outputs": [
    {
     "name": "stdout",
     "output_type": "stream",
     "text": [
      "'Assignment 2.pdf'   private_2.txt    Receiver.ipynb                 test.ipynb\r\n",
      " CA.ipynb            public_CA.txt    Sender.ipynb\r\n",
      " private_1.txt       public_dir.txt   send_over_unsafe_network.txt\r\n"
     ]
    }
   ],
   "source": [
    "ls"
   ]
  },
  {
   "cell_type": "code",
   "execution_count": 14,
   "metadata": {},
   "outputs": [
    {
     "name": "stdout",
     "output_type": "stream",
     "text": [
      "evqb8759bw2ela9rsff65bi52w9j1tu2v0aje0xftzlxop3bvj41826imvmlkagoy7gqfpu-b0crrjm0o9obf0qhlzyt0eehp7c63485lomhnijmnn2mg9evdgmh39p937ow-xl33nsbe5e7zdlig--kpfhn8z9a846wrqj0e69xyx4nsi8ycarkf9py5y79jzvi7hv5hdt93w4q8dy2i-blhgvru0bdp8m5szjg26gpkpjt4ja0rmgnzf4z-funytmx83vnhm0varn3s6ydet0uczwbceolhkgrgnoth8rztqpxqae0leyw1hcyiwe-cwt8c1rk8pmgl5vbt439oszxl5gjoxwoqavjoitw2m8lfh0gsn3ozvtgk5lc0k6e6p15y59jk2cela340lvi91p2k0va47qmbu6v0rz7u8i-kmhtundipg7gv9l5y6jdoay73lrhl6098yq-lxves8nxn97lw093hrq92pjb1mxatjjo4jeu-yrxcqop6tmuw46-48-e5q4gnqfftgm4ycwudat0xm39sz3d-b8l6fq2nq5wzubhj0ycchn1gvxuz7vxjkwky1xb6z7ieqxl1apxu0yunuc5w7v6d1ax748uev5dxf6ojsxpvhdkqwz0qf1cd5zev4cl-xm9b1944pvydd67i728atj7v6t93frz5-5j18dyp4o5s4o-nyjcwnemktwoejokntf7jmulrkisoq9hsmxm6lq62ere2t7evw82jx2euk1plp0zf-n7rij1k9w66lvwdi2w-bpcl9jy2i-bgs5xtm3p6py026l4481dbpv8bzdek4gwh5kith2wumr0rru3wrdt1ktzohnirwuhd-a4z22dqcfggv0ay54cmwk137q9bd-rjdwu2w37f4lt--dfrvsuhq2i5m4qwztjo8t2yflfy4bxe1ipyvgmt4rilaqf3rsn9vjispnb9z9jknomqgp37znhu81x7"
     ]
    }
   ],
   "source": [
    "cat private_2.txt"
   ]
  },
  {
   "cell_type": "code",
   "execution_count": null,
   "metadata": {},
   "outputs": [],
   "source": []
  }
 ],
 "metadata": {
  "kernelspec": {
   "display_name": "Python 3",
   "language": "python",
   "name": "python3"
  },
  "language_info": {
   "codemirror_mode": {
    "name": "ipython",
    "version": 3
   },
   "file_extension": ".py",
   "mimetype": "text/x-python",
   "name": "python",
   "nbconvert_exporter": "python",
   "pygments_lexer": "ipython3",
   "version": "3.6.9"
  }
 },
 "nbformat": 4,
 "nbformat_minor": 2
}
