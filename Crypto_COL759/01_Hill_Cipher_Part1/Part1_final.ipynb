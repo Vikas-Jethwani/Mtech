{
 "cells": [
  {
   "cell_type": "code",
   "execution_count": null,
   "metadata": {},
   "outputs": [],
   "source": [
    "# TODO:\n",
    "# 4. First multiply with determinant then find inverse"
   ]
  },
  {
   "cell_type": "code",
   "execution_count": 109,
   "metadata": {},
   "outputs": [],
   "source": [
    "import numpy as np\n",
    "import sys # For terminating when error\n",
    "import math # For sqaure root"
   ]
  },
  {
   "cell_type": "code",
   "execution_count": 112,
   "metadata": {},
   "outputs": [
    {
     "data": {
      "text/plain": [
       "array([[ 0,  1,  2],\n",
       "       [11, 12,  0],\n",
       "       [25, 18, 23]])"
      ]
     },
     "execution_count": 112,
     "metadata": {},
     "output_type": "execute_result"
    }
   ],
   "source": [
    "key = open('keya.txt', 'r').read().strip()\n",
    "if len(key) == 0:\n",
    "    print('Key can not be of length 0.')\n",
    "    sys.exit(1)\n",
    "\n",
    "if 'a' <= key[0] <= 'z': key = [ord(ch)-ord('a') for ch in key if 'a'<=ch<='z'] # If key is a phrase\n",
    "else: key = [int(k) for k in key.split()] # If key is a matrix, flattened out\n",
    "\n",
    "n = int(round(math.sqrt(len(key)))) # Find 'n'\n",
    "if n*n != len(key):\n",
    "    print('Key length has to be a perfect square.')\n",
    "    sys.exit(1)\n",
    "    \n",
    "key_arr = np.asarray(key)\n",
    "key_mat = key_arr.reshape(n, n)\n",
    "key_mat"
   ]
  },
  {
   "cell_type": "code",
   "execution_count": null,
   "metadata": {},
   "outputs": [],
   "source": []
  },
  {
   "cell_type": "code",
   "execution_count": 113,
   "metadata": {},
   "outputs": [
    {
     "data": {
      "text/plain": [
       "'speakingofdreamsinafigurativesensethenslowlytalkingaboutitsimpactintheliteralsensethewriterkeepsstressingononeveryimportantpointthatdreamshaveanimportantroletoplayinamericanpoliticsafterallaliberalsocietyisformedonthebasisofonesimaginationtheseimaginationsarearesultofonesfreethoughtswhichcanberelatedtodreamsasdreamingprovidesapictureoftherealworlduncoveringthingswhichotherwisemightnothavebeenpondereduponduetonarrowedandlimitedfreedomofimaginingitmayseemrecklesstoconsiderthepossibilityofturningtodreamstoworkthroughthepoliticalconditionstodaybutignoringthemaltogethermightevenbemorerecklesssaystheauthor'"
      ]
     },
     "execution_count": 113,
     "metadata": {},
     "output_type": "execute_result"
    }
   ],
   "source": [
    "pl_text = open('input.txt', 'r').read().strip()\n",
    "pl_text_trim = ''\n",
    "for ch in pl_text:\n",
    "    if 'a' <= ch <= 'z': pl_text_trim += ch # Ensures only lowercase english chars\n",
    "pl_text_trim"
   ]
  },
  {
   "cell_type": "code",
   "execution_count": 114,
   "metadata": {},
   "outputs": [
    {
     "data": {
      "text/plain": [
       "'speakingofdreamsinafigurativesensethenslowlytalkingaboutitsimpactintheliteralsensethewriterkeepsstressingononeveryimportantpointthatdreamshaveanimportantroletoplayinamericanpoliticsafterallaliberalsocietyisformedonthebasisofonesimaginationtheseimaginationsarearesultofonesfreethoughtswhichcanberelatedtodreamsasdreamingprovidesapictureoftherealworlduncoveringthingswhichotherwisemightnothavebeenpondereduponduetonarrowedandlimitedfreedomofimaginingitmayseemrecklesstoconsiderthepossibilityofturningtodreamstoworkthroughthepoliticalconditionstodaybutignoringthemaltogethermightevenbemorerecklesssaystheauthorxx'"
      ]
     },
     "execution_count": 114,
     "metadata": {},
     "output_type": "execute_result"
    }
   ],
   "source": [
    "if len(pl_text_trim)%n != 0:\n",
    "    pl_text_trim = pl_text_trim + 'x'*( n - (len(pl_text_trim)%n) ) # Append required 'x' to make multiple of n\n",
    "pl_text_trim"
   ]
  },
  {
   "cell_type": "code",
   "execution_count": 115,
   "metadata": {},
   "outputs": [],
   "source": [
    "pl_text_int = [ord(ch)-ord('a') for ch in pl_text_trim]"
   ]
  },
  {
   "cell_type": "code",
   "execution_count": null,
   "metadata": {},
   "outputs": [],
   "source": []
  },
  {
   "cell_type": "code",
   "execution_count": 116,
   "metadata": {},
   "outputs": [
    {
     "data": {
      "text/plain": [
       "'xogaqaihblnyysmiijviocurjugotxxsuhmfxsugdtktafcmzkadmcjgmijvpayjqehhwbuomxcvcoxsuhmfewdbeksvvzqebkncagzkapywujwnowqyhdubzavevffhmmzozdfwogqziasjqyhdubzavkruvmkllbiwduowmxrrahbaemtpkqtmxchcjbcsmhuvcoswypmgcsppuwfcihhwbeosiuhgiojfmyaigvjugzyhovlgkawugmniowxiqjisxgaavldopacatmbrjhnugpkjfmrbcxdjztabwbusvblzdfwogyidebdiupxmflqcodpfymhqugbnhxezoedccnuzungeifhosshmirukwsmrbalgmvosaqcggtulazaqzijecrsdtydzoeynatydqivnymtbnkeptargjtbeknpkkohomegvzwugifougdwcummqzywgmpcagsntxykluihzsrqqiywedgpecrgtrinzkaunqebdekvyccwvctvxugpphrkvwjeywwroiduzgowxvkwwhdgrqgejhuishmcvdxclosephrctttuldkyjztwohzoegmpcagwqohkrosojhnrvq'"
      ]
     },
     "execution_count": 116,
     "metadata": {},
     "output_type": "execute_result"
    }
   ],
   "source": [
    "ci_text = ''\n",
    "for i in range(0, len(pl_text_int), n):\n",
    "    segment = pl_text_int[i:i+n]\n",
    "    dot_prod = np.dot(key_mat, np.asarray(segment).reshape(n,1)) # Matrix multiplication\n",
    "    for elem in dot_prod:\n",
    "        ci_text += chr((elem[0]%26) + ord('a')) # Mod + ASCII add\n",
    "ci_text"
   ]
  },
  {
   "cell_type": "code",
   "execution_count": 117,
   "metadata": {},
   "outputs": [
    {
     "data": {
      "text/plain": [
       "609"
      ]
     },
     "execution_count": 117,
     "metadata": {},
     "output_type": "execute_result"
    }
   ],
   "source": [
    "open('cipher.txt', 'w').write(ci_text)"
   ]
  },
  {
   "cell_type": "code",
   "execution_count": null,
   "metadata": {},
   "outputs": [],
   "source": []
  },
  {
   "cell_type": "code",
   "execution_count": 94,
   "metadata": {},
   "outputs": [],
   "source": [
    "## Decrypt"
   ]
  },
  {
   "cell_type": "code",
   "execution_count": 125,
   "metadata": {},
   "outputs": [
    {
     "data": {
      "text/plain": [
       "array([[ 0,  1,  2],\n",
       "       [11, 12,  0],\n",
       "       [25, 18, 23]])"
      ]
     },
     "execution_count": 125,
     "metadata": {},
     "output_type": "execute_result"
    }
   ],
   "source": [
    "key = open('keya.txt', 'r').read().strip()\n",
    "if len(key) == 0:\n",
    "    print('Key can not be of length 0.')\n",
    "    sys.exit(1)\n",
    "if 'a' <= key[0] <= 'z': key = [ord(ch)-ord('a') for ch in key if 'a'<=ch<='z']\n",
    "else: key = [int(k) for k in key.split()]\n",
    "\n",
    "n = int(round(math.sqrt(len(key))))\n",
    "key_arr = np.asarray(key)\n",
    "key_mat = key_arr.reshape(n, n)\n",
    "key_mat"
   ]
  },
  {
   "cell_type": "code",
   "execution_count": 126,
   "metadata": {},
   "outputs": [],
   "source": [
    "key_det = np.linalg.det(key_mat)\n",
    "determ = int(round(key_det))\n",
    "if determ == 0:\n",
    "    print('Key matrix is Singular, Determinant=0.')\n",
    "    sys.exit(1)\n",
    "\n",
    "if math.gcd(determ, 26) != 1:\n",
    "    print('Key_Determinant & 26 are not co-prime. Modulo inverse not possible.')\n",
    "    sys.exit(1)\n",
    "\n",
    "key_inv = np.linalg.inv(key_mat)\n",
    "key_adj = np.around(key_inv*key_det).astype(int, copy=False)"
   ]
  },
  {
   "cell_type": "code",
   "execution_count": 127,
   "metadata": {},
   "outputs": [],
   "source": [
    "# Copied from GFG : https://www.geeksforgeeks.org/multiplicative-inverse-under-modulo-m/\n",
    "def modInverse(a, m):\n",
    "    if m == 1: return 0;\n",
    "    \n",
    "    m0 = m\n",
    "    x, y = 1, 0\n",
    "    \n",
    "    while a > 1 :\n",
    "        q = a // m\n",
    "        t = m\n",
    "        \n",
    "        m = a%m # Euclid's Algo\n",
    "        a = t\n",
    "        t = y\n",
    "        \n",
    "        y = x - q*y\n",
    "        x = t\n",
    "        \n",
    "    if x < 0: x += m0\n",
    "        \n",
    "    return x"
   ]
  },
  {
   "cell_type": "code",
   "execution_count": 128,
   "metadata": {},
   "outputs": [],
   "source": [
    "# Copied from GFG : https://www.geeksforgeeks.org/multiplicative-inverse-under-modulo-m/\n",
    "def modI(a, m):\n",
    "    for num in range(1, m):\n",
    "        if (a*num)%m == 1:\n",
    "            return num\n",
    "    return None"
   ]
  },
  {
   "cell_type": "code",
   "execution_count": 138,
   "metadata": {},
   "outputs": [
    {
     "name": "stdout",
     "output_type": "stream",
     "text": [
      "1\n",
      "2\n"
     ]
    }
   ],
   "source": [
    "check = determ\n",
    "if math.gcd(check, 26) != 1:\n",
    "    print('Key_Determinant & 26 are not co-prime. Modulo inverse not possible.')\n",
    "else:\n",
    "    print(modInverse(check,26))\n",
    "    print(modI(check,26))"
   ]
  },
  {
   "cell_type": "code",
   "execution_count": 144,
   "metadata": {},
   "outputs": [],
   "source": [
    "### GFG WALA WRONG FOR NEGATIVE NUMBERS, \n",
    "# EG: DETERMINANT : -4\n",
    "#         AND MOD M=3.\n",
    "#         CORRECT ANS = 2\n",
    "#         GFG ANS = 1"
   ]
  },
  {
   "cell_type": "code",
   "execution_count": 145,
   "metadata": {},
   "outputs": [
    {
     "name": "stdout",
     "output_type": "stream",
     "text": [
      "-457 19\n"
     ]
    },
    {
     "data": {
      "text/plain": [
       "array([[18, 13, 12],\n",
       "       [ 3, 12,  2],\n",
       "       [12,  7, 25]])"
      ]
     },
     "execution_count": 145,
     "metadata": {},
     "output_type": "execute_result"
    }
   ],
   "source": [
    "key_det_mod_inv = modI(determ, 26)\n",
    "print(determ, key_det_mod_inv)\n",
    "\n",
    "key_mod_inv = np.zeros(shape=(n, n), dtype=int)\n",
    "for i in range(len(key_adj)):\n",
    "    for j in range(len(key_adj[i])):\n",
    "        key_mod_inv[i][j] = (key_adj[i][j] * key_det_mod_inv) % 26\n",
    "key_mod_inv"
   ]
  },
  {
   "cell_type": "code",
   "execution_count": null,
   "metadata": {},
   "outputs": [],
   "source": []
  },
  {
   "cell_type": "code",
   "execution_count": 146,
   "metadata": {},
   "outputs": [],
   "source": [
    "ci_text = open('cipher.txt', 'r').read().strip()\n",
    "ci_text_int = [ord(ch)-ord('a') for ch in ci_text]"
   ]
  },
  {
   "cell_type": "code",
   "execution_count": 187,
   "metadata": {},
   "outputs": [
    {
     "data": {
      "text/plain": [
       "'speakingofdreamsinafigurativesensethenslowlytalkingaboutitsimpactintheliteralsensethewriterkeepsstressingononeveryimportantpointthatdreamshaveanimportantroletoplayinamericanpoliticsafterallaliberalsocietyisformedonthebasisofonesimaginationtheseimaginationsarearesultofonesfreethoughtswhichcanberelatedtodreamsasdreamingprovidesapictureoftherealworlduncoveringthingswhichotherwisemightnothavebeenpondereduponduetonarrowedandlimitedfreedomofimaginingitmayseemrecklesstoconsiderthepossibilityofturningtodreamstoworkthroughthepoliticalconditionstodaybutignoringthemaltogethermightevenbemorerecklesssaystheauthorxx'"
      ]
     },
     "execution_count": 187,
     "metadata": {},
     "output_type": "execute_result"
    }
   ],
   "source": [
    "pl_text = ''\n",
    "for i in range(0, len(ci_text_int), n):\n",
    "    segment = ci_text_int[i:i+n]\n",
    "    dot_prod = np.dot(key_mod_inv, np.asarray(segment).reshape(n,1)) # Matrix multiplication\n",
    "    for elem in dot_prod:\n",
    "        pl_text += chr((elem[0]%26) + ord('a')) # Mod + ASCII add\n",
    "pl_text"
   ]
  },
  {
   "cell_type": "code",
   "execution_count": 188,
   "metadata": {},
   "outputs": [
    {
     "data": {
      "text/plain": [
       "'speakingofdreamsinafigurativesensethenslowlytalkingaboutitsimpactintheliteralsensethewriterkeepsstressingononeveryimportantpointthatdreamshaveanimportantroletoplayinamericanpoliticsafterallaliberalsocietyisformedonthebasisofonesimaginationtheseimaginationsarearesultofonesfreethoughtswhichcanberelatedtodreamsasdreamingprovidesapictureoftherealworlduncoveringthingswhichotherwisemightnothavebeenpondereduponduetonarrowedandlimitedfreedomofimaginingitmayseemrecklesstoconsiderthepossibilityofturningtodreamstoworkthroughthepoliticalconditionstodaybutignoringthemaltogethermightevenbemorerecklesssaystheauthor'"
      ]
     },
     "execution_count": 188,
     "metadata": {},
     "output_type": "execute_result"
    }
   ],
   "source": [
    "# Erase trailing 'x', atmost (n-1)\n",
    "x_trail, i = 0, len(pl_text)-1\n",
    "while i>=0 and pl_text[i]=='x':\n",
    "    i -= 1\n",
    "    x_trail += 1\n",
    "\n",
    "if x_trail > n-1:\n",
    "    x_trail = n-1\n",
    "pl_text = pl_text[:-x_trail]\n",
    "pl_text"
   ]
  },
  {
   "cell_type": "code",
   "execution_count": null,
   "metadata": {},
   "outputs": [],
   "source": []
  },
  {
   "cell_type": "code",
   "execution_count": null,
   "metadata": {},
   "outputs": [],
   "source": []
  },
  {
   "cell_type": "code",
   "execution_count": null,
   "metadata": {},
   "outputs": [],
   "source": []
  }
 ],
 "metadata": {
  "kernelspec": {
   "display_name": "Python 3",
   "language": "python",
   "name": "python3"
  },
  "language_info": {
   "codemirror_mode": {
    "name": "ipython",
    "version": 3
   },
   "file_extension": ".py",
   "mimetype": "text/x-python",
   "name": "python",
   "nbconvert_exporter": "python",
   "pygments_lexer": "ipython3",
   "version": "3.7.6"
  }
 },
 "nbformat": 4,
 "nbformat_minor": 2
}
